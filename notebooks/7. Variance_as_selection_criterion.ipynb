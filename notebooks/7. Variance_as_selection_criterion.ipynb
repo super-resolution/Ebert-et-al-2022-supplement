{
 "cells": [
  {
   "cell_type": "markdown",
   "id": "40397709-6d28-481c-9886-f6834b184aba",
   "metadata": {},
   "source": [
    "# Convex hull as diagnostic tool in single-molecule localization microscopy\n",
    "# Selection based on sample variance\n",
    "Note that the variances are taken (therefore, the localization precision squared) due to the easier obtainable unbiased version (compared to the standard deviation) by using Bessel's correction.\n",
    "\n",
    "This notebook includes the generation of lookup tables 5-8."
   ]
  },
  {
   "cell_type": "code",
   "execution_count": 1,
   "id": "3960af25-2e4c-4039-b538-c713ed076ef7",
   "metadata": {},
   "outputs": [],
   "source": [
    "import numpy as np\n",
    "import pandas as pd\n",
    "from scipy.stats import norm\n",
    "from brokenaxes import brokenaxes\n",
    "\n",
    "import matplotlib.pyplot as plt\n",
    "from matplotlib import rcParams\n",
    "import matplotlib.lines as mlines\n",
    "import matplotlib.ticker as ticker\n",
    "import matplotlib.patches as mpatches\n",
    "\n",
    "import src.simulations as si\n",
    "import src.convex_hull as ch\n",
    "import src.sample_variance as sv\n",
    "import src.matplotlib_custom_sim_cal_ch as mc\n",
    "from src.matplotlib_custom import second_axis, pie_plot"
   ]
  },
  {
   "cell_type": "markdown",
   "id": "f9ee703e-2d8b-42c4-a4a6-21a633999c2a",
   "metadata": {},
   "source": [
    "## 1. Simulation and calculation of mean and mean squared error of the variance as estimator\n",
    "The mean squared error MSE depends on the variance and the bias of an estimator. If the estimator is unbiased, MSE only depends on the variance. If the square root of MSE is taken, one receives the root mean squared error RMSE. If the estimator is unbiased, this represents the standard error."
   ]
  },
  {
   "cell_type": "markdown",
   "id": "9b907503-cf59-43e3-80c4-4c5210cedd3e",
   "metadata": {},
   "source": [
    "#### Unbiased"
   ]
  },
  {
   "cell_type": "code",
   "execution_count": 2,
   "id": "f845cb3f-7501-42d2-8c20-2cf4116572af",
   "metadata": {},
   "outputs": [],
   "source": [
    "n = np.arange(3, 101, 1)\n",
    "n_max_points = 100\n",
    "sigma = np.sqrt(2)\n",
    "n_simulations = 10000\n",
    "seed = 100"
   ]
  },
  {
   "cell_type": "code",
   "execution_count": 3,
   "id": "0893b4c5-54ac-4d83-b703-e3440213d6ec",
   "metadata": {},
   "outputs": [],
   "source": [
    "bias = False\n",
    "different_x_y = False\n",
    "\n",
    "array_sim_variance = sv.simulate_variance_estimation(n_max_points, n_simulations, sigma, seed, bias,\n",
    "                                                     different_x_y)\n",
    "means_obs = np.mean(array_sim_variance, axis=1)\n",
    "mse_obs = sv.observed_mse(array_sim_variance, sigma, bias)\n",
    "mse_calc = sv.mse_calculation(n, sigma, bias, different_x_y)\n",
    "expected_value = sv.expected_value_variance(n, sigma, bias, different_x_y)"
   ]
  },
  {
   "cell_type": "code",
   "execution_count": 4,
   "id": "ccd843f4-3275-408b-8cfb-30d296ee0797",
   "metadata": {},
   "outputs": [
    {
     "data": {
      "text/plain": [
       "Text(0, 0.5, 'MSE')"
      ]
     },
     "execution_count": 4,
     "metadata": {},
     "output_type": "execute_result"
    },
    {
     "data": {
      "image/png": "[encoded data removed]",
      "text/plain": [
       "<Figure size 432x288 with 1 Axes>"
      ]
     },
     "metadata": {
      "needs_background": "light"
     },
     "output_type": "display_data"
    }
   ],
   "source": [
    "fig, ax = plt.subplots()\n",
    "ax.errorbar(n, means_obs, yerr=mse_obs, color=\"b\")\n",
    "ax.errorbar(n, expected_value, yerr=mse_calc, alpha=0.5, color=\"r\")\n",
    "ax.set_xlim(2, 10)\n",
    "ax.set_xlabel(\"n\")\n",
    "ax.set_ylabel(\"MSE\")"
   ]
  },
  {
   "cell_type": "code",
   "execution_count": 5,
   "id": "b7c2930e-f520-4af0-bf77-ff6e1a17128d",
   "metadata": {},
   "outputs": [],
   "source": [
    "bias = False\n",
    "different_x_y = True\n",
    "\n",
    "array_sim_variance = sv.simulate_variance_estimation(n_max_points, n_simulations, sigma, seed, bias,\n",
    "                                                     different_x_y)\n",
    "means_obs = np.mean(array_sim_variance, axis=1)\n",
    "mse_obs = sv.observed_mse(array_sim_variance, sigma, bias)\n",
    "mse_calc = sv.mse_calculation(n, sigma, bias, different_x_y)\n",
    "expected_value = sv.expected_value_variance(n, sigma, bias, different_x_y)"
   ]
  },
  {
   "cell_type": "code",
   "execution_count": 6,
   "id": "b2aa8305-f00c-4255-8a79-76397061af6c",
   "metadata": {},
   "outputs": [
    {
     "data": {
      "text/plain": [
       "Text(0, 0.5, 'MSE')"
      ]
     },
     "execution_count": 6,
     "metadata": {},
     "output_type": "execute_result"
    },
    {
     "data": {
      "image/png": "[encoded data removed]",
      "text/plain": [
       "<Figure size 432x288 with 1 Axes>"
      ]
     },
     "metadata": {
      "needs_background": "light"
     },
     "output_type": "display_data"
    }
   ],
   "source": [
    "fig, ax = plt.subplots()\n",
    "ax.errorbar(n, means_obs, yerr=mse_obs, color=\"b\")\n",
    "ax.errorbar(n, expected_value, yerr=mse_calc, alpha=0.5, color=\"r\")\n",
    "ax.set_xlim(2, 10)\n",
    "ax.set_xlabel(\"n\")\n",
    "ax.set_ylabel(\"MSE\")"
   ]
  },
  {
   "cell_type": "markdown",
   "id": "aa68344c-75b9-464a-ab68-602bcfac770e",
   "metadata": {},
   "source": [
    "#### Biased"
   ]
  },
  {
   "cell_type": "code",
   "execution_count": 7,
   "id": "34bc246e-1576-40a8-9a9f-653d11af52e7",
   "metadata": {},
   "outputs": [],
   "source": [
    "bias = True\n",
    "different_x_y = False\n",
    "\n",
    "array_sim_variance = sv.simulate_variance_estimation(n_max_points, n_simulations, sigma, seed, bias,\n",
    "                                                     different_x_y)\n",
    "means_obs = np.mean(array_sim_variance, axis=1)\n",
    "mse_obs = sv.observed_mse(array_sim_variance, sigma, bias)\n",
    "mse_calc = sv.mse_calculation(n, sigma, bias, different_x_y)\n",
    "expected_value = sv.expected_value_variance(n, sigma, bias, different_x_y)"
   ]
  },
  {
   "cell_type": "code",
   "execution_count": 8,
   "id": "dc8e0d54-337e-4418-9635-374df1b9c792",
   "metadata": {},
   "outputs": [
    {
     "data": {
      "text/plain": [
       "Text(0, 0.5, 'MSE')"
      ]
     },
     "execution_count": 8,
     "metadata": {},
     "output_type": "execute_result"
    },
    {
     "data": {
      "image/png": "[encoded data removed]",
      "text/plain": [
       "<Figure size 432x288 with 1 Axes>"
      ]
     },
     "metadata": {
      "needs_background": "light"
     },
     "output_type": "display_data"
    }
   ],
   "source": [
    "fig, ax = plt.subplots()\n",
    "ax.errorbar(n, means_obs, yerr=mse_obs, color=\"b\")\n",
    "ax.errorbar(n, expected_value, yerr=mse_calc, alpha=0.5, color=\"r\")\n",
    "ax.set_xlim(2, 10)\n",
    "ax.set_xlabel(\"n\")\n",
    "ax.set_ylabel(\"MSE\")"
   ]
  },
  {
   "cell_type": "code",
   "execution_count": 9,
   "id": "2ab47e3d-1d3f-4706-b484-7ec3dfe00d81",
   "metadata": {},
   "outputs": [],
   "source": [
    "bias = True\n",
    "different_x_y = True\n",
    "\n",
    "array_sim_variance = sv.simulate_variance_estimation(n_max_points, n_simulations, sigma, seed, bias,\n",
    "                                                     different_x_y)\n",
    "means_obs = np.mean(array_sim_variance, axis=1)\n",
    "mse_obs = sv.observed_mse(array_sim_variance, sigma, bias)\n",
    "mse_calc = sv.mse_calculation(n, sigma, bias, different_x_y)\n",
    "expected_value = sv.expected_value_variance(n, sigma, bias, different_x_y)"
   ]
  },
  {
   "cell_type": "code",
   "execution_count": 10,
   "id": "a2c3df07-9796-47d3-9a1c-a7d893a45c89",
   "metadata": {},
   "outputs": [
    {
     "data": {
      "text/plain": [
       "Text(0, 0.5, 'MSE')"
      ]
     },
     "execution_count": 10,
     "metadata": {},
     "output_type": "execute_result"
    },
    {
     "data": {
      "image/png": "[encoded data removed]",
      "text/plain": [
       "<Figure size 432x288 with 1 Axes>"
      ]
     },
     "metadata": {
      "needs_background": "light"
     },
     "output_type": "display_data"
    }
   ],
   "source": [
    "fig, ax = plt.subplots()\n",
    "ax.errorbar(n, means_obs, yerr=mse_obs, color=\"b\")\n",
    "ax.errorbar(n, expected_value, yerr=mse_calc, alpha=0.5, color=\"r\")\n",
    "ax.set_xlim(2, 10)\n",
    "ax.set_xlabel(\"n\")\n",
    "ax.set_ylabel(\"MSE\")"
   ]
  },
  {
   "cell_type": "markdown",
   "id": "b6aa1f74-d0fb-43c9-90ac-510ede82e2aa",
   "metadata": {
    "tags": []
   },
   "source": [
    "## 2. Determining the upper and lower standard deviation and quantiles of variance estimation\n",
    "The plots and tables are analogous to the ones of fig. 1 and table 1"
   ]
  },
  {
   "cell_type": "markdown",
   "id": "c03aa4dc-8f4e-4b2c-8cc9-8fc82222b75e",
   "metadata": {
    "tags": []
   },
   "source": [
    "### 2.1 Lookuptables"
   ]
  },
  {
   "cell_type": "markdown",
   "id": "ea6508c0-5e69-47f5-94b9-07a28191a835",
   "metadata": {
    "tags": []
   },
   "source": [
    "#### Unbiased"
   ]
  },
  {
   "cell_type": "code",
   "execution_count": 5,
   "id": "c971e402-d9ae-4ce7-9ac9-5f81d72fbc27",
   "metadata": {},
   "outputs": [],
   "source": [
    "lookuptable = sv.lookuptable_variance(bias=False, seed=100, n_max_points=200, n_simulations=100000, \n",
    "                                      sigma=1, quantiles=[0.8, 0.95, 0.99, 0.999, 0.9999], \n",
    "                                      save_to=r\"lookup_tables\\lookup_table_unbiased_2d.csv\")"
   ]
  },
  {
   "cell_type": "code",
   "execution_count": 6,
   "id": "a6f3872c-15cb-404d-8444-e7a0225ead1b",
   "metadata": {},
   "outputs": [
    {
     "data": {
      "text/html": [
       "<div>\n",
       "<style scoped>\n",
       "    .dataframe tbody tr th:only-of-type {\n",
       "        vertical-align: middle;\n",
       "    }\n",
       "\n",
       "    .dataframe tbody tr th {\n",
       "        vertical-align: top;\n",
       "    }\n",
       "\n",
       "    .dataframe thead th {\n",
       "        text-align: right;\n",
       "    }\n",
       "</style>\n",
       "<table border=\"1\" class=\"dataframe\">\n",
       "  <thead>\n",
       "    <tr style=\"text-align: right;\">\n",
       "      <th>$n$</th>\n",
       "      <th>3</th>\n",
       "      <th>4</th>\n",
       "      <th>5</th>\n",
       "      <th>6</th>\n",
       "      <th>7</th>\n",
       "      <th>8</th>\n",
       "      <th>9</th>\n",
       "      <th>10</th>\n",
       "      <th>11</th>\n",
       "      <th>12</th>\n",
       "      <th>...</th>\n",
       "      <th>191</th>\n",
       "      <th>192</th>\n",
       "      <th>193</th>\n",
       "      <th>194</th>\n",
       "      <th>195</th>\n",
       "      <th>196</th>\n",
       "      <th>197</th>\n",
       "      <th>198</th>\n",
       "      <th>199</th>\n",
       "      <th>200</th>\n",
       "    </tr>\n",
       "  </thead>\n",
       "  <tbody>\n",
       "    <tr>\n",
       "      <th>$E(var(n))$</th>\n",
       "      <td>1.00</td>\n",
       "      <td>1.00</td>\n",
       "      <td>1.00</td>\n",
       "      <td>1.00</td>\n",
       "      <td>1.00</td>\n",
       "      <td>1.00</td>\n",
       "      <td>1.00</td>\n",
       "      <td>1.00</td>\n",
       "      <td>1.00</td>\n",
       "      <td>1.00</td>\n",
       "      <td>...</td>\n",
       "      <td>1.00</td>\n",
       "      <td>1.00</td>\n",
       "      <td>1.00</td>\n",
       "      <td>1.00</td>\n",
       "      <td>1.00</td>\n",
       "      <td>1.00</td>\n",
       "      <td>1.00</td>\n",
       "      <td>1.00</td>\n",
       "      <td>1.00</td>\n",
       "      <td>1.00</td>\n",
       "    </tr>\n",
       "    <tr>\n",
       "      <th>$Mean(var(n))$</th>\n",
       "      <td>1.00</td>\n",
       "      <td>1.00</td>\n",
       "      <td>1.00</td>\n",
       "      <td>1.00</td>\n",
       "      <td>1.00</td>\n",
       "      <td>1.00</td>\n",
       "      <td>1.00</td>\n",
       "      <td>1.00</td>\n",
       "      <td>1.00</td>\n",
       "      <td>1.00</td>\n",
       "      <td>...</td>\n",
       "      <td>1.00</td>\n",
       "      <td>1.00</td>\n",
       "      <td>1.00</td>\n",
       "      <td>1.00</td>\n",
       "      <td>1.00</td>\n",
       "      <td>1.00</td>\n",
       "      <td>1.00</td>\n",
       "      <td>1.00</td>\n",
       "      <td>1.00</td>\n",
       "      <td>1.00</td>\n",
       "    </tr>\n",
       "    <tr>\n",
       "      <th>$std_{pos}(n)$</th>\n",
       "      <td>0.91</td>\n",
       "      <td>0.72</td>\n",
       "      <td>0.61</td>\n",
       "      <td>0.53</td>\n",
       "      <td>0.48</td>\n",
       "      <td>0.43</td>\n",
       "      <td>0.40</td>\n",
       "      <td>0.38</td>\n",
       "      <td>0.36</td>\n",
       "      <td>0.34</td>\n",
       "      <td>...</td>\n",
       "      <td>0.07</td>\n",
       "      <td>0.07</td>\n",
       "      <td>0.07</td>\n",
       "      <td>0.07</td>\n",
       "      <td>0.07</td>\n",
       "      <td>0.07</td>\n",
       "      <td>0.07</td>\n",
       "      <td>0.07</td>\n",
       "      <td>0.07</td>\n",
       "      <td>0.07</td>\n",
       "    </tr>\n",
       "    <tr>\n",
       "      <th>$std_{neg}(n)$</th>\n",
       "      <td>0.52</td>\n",
       "      <td>0.45</td>\n",
       "      <td>0.40</td>\n",
       "      <td>0.37</td>\n",
       "      <td>0.34</td>\n",
       "      <td>0.32</td>\n",
       "      <td>0.30</td>\n",
       "      <td>0.29</td>\n",
       "      <td>0.28</td>\n",
       "      <td>0.27</td>\n",
       "      <td>...</td>\n",
       "      <td>0.07</td>\n",
       "      <td>0.07</td>\n",
       "      <td>0.07</td>\n",
       "      <td>0.07</td>\n",
       "      <td>0.07</td>\n",
       "      <td>0.07</td>\n",
       "      <td>0.07</td>\n",
       "      <td>0.07</td>\n",
       "      <td>0.07</td>\n",
       "      <td>0.07</td>\n",
       "    </tr>\n",
       "    <tr>\n",
       "      <th>$quant_{0.8}(n)$</th>\n",
       "      <td>1.50</td>\n",
       "      <td>1.43</td>\n",
       "      <td>1.38</td>\n",
       "      <td>1.35</td>\n",
       "      <td>1.32</td>\n",
       "      <td>1.29</td>\n",
       "      <td>1.28</td>\n",
       "      <td>1.27</td>\n",
       "      <td>1.25</td>\n",
       "      <td>1.24</td>\n",
       "      <td>...</td>\n",
       "      <td>1.06</td>\n",
       "      <td>1.06</td>\n",
       "      <td>1.06</td>\n",
       "      <td>1.06</td>\n",
       "      <td>1.06</td>\n",
       "      <td>1.06</td>\n",
       "      <td>1.06</td>\n",
       "      <td>1.06</td>\n",
       "      <td>1.06</td>\n",
       "      <td>1.06</td>\n",
       "    </tr>\n",
       "    <tr>\n",
       "      <th>$quant_{0.95}(n)$</th>\n",
       "      <td>2.37</td>\n",
       "      <td>2.11</td>\n",
       "      <td>1.95</td>\n",
       "      <td>1.84</td>\n",
       "      <td>1.76</td>\n",
       "      <td>1.69</td>\n",
       "      <td>1.64</td>\n",
       "      <td>1.61</td>\n",
       "      <td>1.58</td>\n",
       "      <td>1.54</td>\n",
       "      <td>...</td>\n",
       "      <td>1.12</td>\n",
       "      <td>1.12</td>\n",
       "      <td>1.12</td>\n",
       "      <td>1.12</td>\n",
       "      <td>1.12</td>\n",
       "      <td>1.12</td>\n",
       "      <td>1.12</td>\n",
       "      <td>1.12</td>\n",
       "      <td>1.12</td>\n",
       "      <td>1.12</td>\n",
       "    </tr>\n",
       "    <tr>\n",
       "      <th>$quant_{0.99}(n)$</th>\n",
       "      <td>3.29</td>\n",
       "      <td>2.83</td>\n",
       "      <td>2.53</td>\n",
       "      <td>2.32</td>\n",
       "      <td>2.19</td>\n",
       "      <td>2.08</td>\n",
       "      <td>1.99</td>\n",
       "      <td>1.93</td>\n",
       "      <td>1.89</td>\n",
       "      <td>1.83</td>\n",
       "      <td>...</td>\n",
       "      <td>1.18</td>\n",
       "      <td>1.18</td>\n",
       "      <td>1.18</td>\n",
       "      <td>1.18</td>\n",
       "      <td>1.17</td>\n",
       "      <td>1.17</td>\n",
       "      <td>1.17</td>\n",
       "      <td>1.17</td>\n",
       "      <td>1.17</td>\n",
       "      <td>1.17</td>\n",
       "    </tr>\n",
       "    <tr>\n",
       "      <th>$quant_{0.999}(n)$</th>\n",
       "      <td>4.57</td>\n",
       "      <td>3.76</td>\n",
       "      <td>3.24</td>\n",
       "      <td>2.94</td>\n",
       "      <td>2.72</td>\n",
       "      <td>2.55</td>\n",
       "      <td>2.45</td>\n",
       "      <td>2.38</td>\n",
       "      <td>2.27</td>\n",
       "      <td>2.17</td>\n",
       "      <td>...</td>\n",
       "      <td>1.24</td>\n",
       "      <td>1.24</td>\n",
       "      <td>1.24</td>\n",
       "      <td>1.24</td>\n",
       "      <td>1.24</td>\n",
       "      <td>1.23</td>\n",
       "      <td>1.23</td>\n",
       "      <td>1.23</td>\n",
       "      <td>1.24</td>\n",
       "      <td>1.24</td>\n",
       "    </tr>\n",
       "    <tr>\n",
       "      <th>$quant_{0.9999}(n)$</th>\n",
       "      <td>5.57</td>\n",
       "      <td>4.82</td>\n",
       "      <td>3.90</td>\n",
       "      <td>3.51</td>\n",
       "      <td>3.24</td>\n",
       "      <td>3.11</td>\n",
       "      <td>2.90</td>\n",
       "      <td>2.86</td>\n",
       "      <td>2.70</td>\n",
       "      <td>2.43</td>\n",
       "      <td>...</td>\n",
       "      <td>1.29</td>\n",
       "      <td>1.30</td>\n",
       "      <td>1.30</td>\n",
       "      <td>1.28</td>\n",
       "      <td>1.29</td>\n",
       "      <td>1.29</td>\n",
       "      <td>1.29</td>\n",
       "      <td>1.29</td>\n",
       "      <td>1.30</td>\n",
       "      <td>1.29</td>\n",
       "    </tr>\n",
       "  </tbody>\n",
       "</table>\n",
       "<p>9 rows × 198 columns</p>\n",
       "</div>"
      ],
      "text/plain": [
       "$n$                   3     4     5     6     7     8     9     10    11   \\\n",
       "$E(var(n))$          1.00  1.00  1.00  1.00  1.00  1.00  1.00  1.00  1.00   \n",
       "$Mean(var(n))$       1.00  1.00  1.00  1.00  1.00  1.00  1.00  1.00  1.00   \n",
       "$std_{pos}(n)$       0.91  0.72  0.61  0.53  0.48  0.43  0.40  0.38  0.36   \n",
       "$std_{neg}(n)$       0.52  0.45  0.40  0.37  0.34  0.32  0.30  0.29  0.28   \n",
       "$quant_{0.8}(n)$     1.50  1.43  1.38  1.35  1.32  1.29  1.28  1.27  1.25   \n",
       "$quant_{0.95}(n)$    2.37  2.11  1.95  1.84  1.76  1.69  1.64  1.61  1.58   \n",
       "$quant_{0.99}(n)$    3.29  2.83  2.53  2.32  2.19  2.08  1.99  1.93  1.89   \n",
       "$quant_{0.999}(n)$   4.57  3.76  3.24  2.94  2.72  2.55  2.45  2.38  2.27   \n",
       "$quant_{0.9999}(n)$  5.57  4.82  3.90  3.51  3.24  3.11  2.90  2.86  2.70   \n",
       "\n",
       "$n$                   12   ...   191   192   193   194   195   196   197  \\\n",
       "$E(var(n))$          1.00  ...  1.00  1.00  1.00  1.00  1.00  1.00  1.00   \n",
       "$Mean(var(n))$       1.00  ...  1.00  1.00  1.00  1.00  1.00  1.00  1.00   \n",
       "$std_{pos}(n)$       0.34  ...  0.07  0.07  0.07  0.07  0.07  0.07  0.07   \n",
       "$std_{neg}(n)$       0.27  ...  0.07  0.07  0.07  0.07  0.07  0.07  0.07   \n",
       "$quant_{0.8}(n)$     1.24  ...  1.06  1.06  1.06  1.06  1.06  1.06  1.06   \n",
       "$quant_{0.95}(n)$    1.54  ...  1.12  1.12  1.12  1.12  1.12  1.12  1.12   \n",
       "$quant_{0.99}(n)$    1.83  ...  1.18  1.18  1.18  1.18  1.17  1.17  1.17   \n",
       "$quant_{0.999}(n)$   2.17  ...  1.24  1.24  1.24  1.24  1.24  1.23  1.23   \n",
       "$quant_{0.9999}(n)$  2.43  ...  1.29  1.30  1.30  1.28  1.29  1.29  1.29   \n",
       "\n",
       "$n$                   198   199   200  \n",
       "$E(var(n))$          1.00  1.00  1.00  \n",
       "$Mean(var(n))$       1.00  1.00  1.00  \n",
       "$std_{pos}(n)$       0.07  0.07  0.07  \n",
       "$std_{neg}(n)$       0.07  0.07  0.07  \n",
       "$quant_{0.8}(n)$     1.06  1.06  1.06  \n",
       "$quant_{0.95}(n)$    1.12  1.12  1.12  \n",
       "$quant_{0.99}(n)$    1.17  1.17  1.17  \n",
       "$quant_{0.999}(n)$   1.23  1.24  1.24  \n",
       "$quant_{0.9999}(n)$  1.29  1.30  1.29  \n",
       "\n",
       "[9 rows x 198 columns]"
      ]
     },
     "execution_count": 6,
     "metadata": {},
     "output_type": "execute_result"
    }
   ],
   "source": [
    "lookuptable"
   ]
  },
  {
   "cell_type": "code",
   "execution_count": 11,
   "id": "55157d01-60e6-41f9-af78-938ec20d4df3",
   "metadata": {},
   "outputs": [
    {
     "name": "stdout",
     "output_type": "stream",
     "text": [
      "The highest standard error of means is 0.0029\n"
     ]
    }
   ],
   "source": [
    "lookuptable_unbias = pd.read_csv(r\"lookup_tables\\lookup_table_unbiased_2d.csv\", index_col=0)\n",
    "std_pos = lookuptable_unbias.loc[\"$std_{pos}(n)$\"].astype(float).values\n",
    "std_neg = lookuptable_unbias.loc[\"$std_{neg}(n)$\"].astype(float).values\n",
    "# Note that std_pos and std_neg is taken, where one of the values overestimates the \n",
    "# classical standard deviation, meaning that the true SEM is even smaller than stated below\n",
    "stds = np.concatenate((std_pos, std_neg))\n",
    "highest_value = np.max(stds)\n",
    "sem = highest_value / np.sqrt(100000)\n",
    "print(\"The highest standard error of means is \" + \"{:.4f}\".format(sem))"
   ]
  },
  {
   "cell_type": "markdown",
   "id": "cda487bc-753e-47e5-9dd1-3ab1ea0fba30",
   "metadata": {},
   "source": [
    "#### Biased"
   ]
  },
  {
   "cell_type": "code",
   "execution_count": 7,
   "id": "c52a811f-cd6a-4958-8f3a-5df20c30a733",
   "metadata": {},
   "outputs": [],
   "source": [
    "lookuptable = sv.lookuptable_variance(bias=True, seed=100, n_max_points=200, n_simulations=100000, \n",
    "                                      sigma=1, quantiles=[0.8, 0.95, 0.99, 0.999, 0.9999], \n",
    "                                      save_to=r\"lookup_tables\\lookup_table_biased_2d.csv\")"
   ]
  },
  {
   "cell_type": "code",
   "execution_count": 8,
   "id": "6d160177-7f5e-48c2-bca1-01780d1d3d5b",
   "metadata": {},
   "outputs": [
    {
     "data": {
      "text/html": [
       "<div>\n",
       "<style scoped>\n",
       "    .dataframe tbody tr th:only-of-type {\n",
       "        vertical-align: middle;\n",
       "    }\n",
       "\n",
       "    .dataframe tbody tr th {\n",
       "        vertical-align: top;\n",
       "    }\n",
       "\n",
       "    .dataframe thead th {\n",
       "        text-align: right;\n",
       "    }\n",
       "</style>\n",
       "<table border=\"1\" class=\"dataframe\">\n",
       "  <thead>\n",
       "    <tr style=\"text-align: right;\">\n",
       "      <th>$n$</th>\n",
       "      <th>3</th>\n",
       "      <th>4</th>\n",
       "      <th>5</th>\n",
       "      <th>6</th>\n",
       "      <th>7</th>\n",
       "      <th>8</th>\n",
       "      <th>9</th>\n",
       "      <th>10</th>\n",
       "      <th>11</th>\n",
       "      <th>12</th>\n",
       "      <th>...</th>\n",
       "      <th>191</th>\n",
       "      <th>192</th>\n",
       "      <th>193</th>\n",
       "      <th>194</th>\n",
       "      <th>195</th>\n",
       "      <th>196</th>\n",
       "      <th>197</th>\n",
       "      <th>198</th>\n",
       "      <th>199</th>\n",
       "      <th>200</th>\n",
       "    </tr>\n",
       "  </thead>\n",
       "  <tbody>\n",
       "    <tr>\n",
       "      <th>$E(var(n))$</th>\n",
       "      <td>0.67</td>\n",
       "      <td>0.75</td>\n",
       "      <td>0.80</td>\n",
       "      <td>0.83</td>\n",
       "      <td>0.86</td>\n",
       "      <td>0.88</td>\n",
       "      <td>0.89</td>\n",
       "      <td>0.90</td>\n",
       "      <td>0.91</td>\n",
       "      <td>0.92</td>\n",
       "      <td>...</td>\n",
       "      <td>0.99</td>\n",
       "      <td>0.99</td>\n",
       "      <td>0.99</td>\n",
       "      <td>0.99</td>\n",
       "      <td>0.99</td>\n",
       "      <td>0.99</td>\n",
       "      <td>0.99</td>\n",
       "      <td>0.99</td>\n",
       "      <td>0.99</td>\n",
       "      <td>0.99</td>\n",
       "    </tr>\n",
       "    <tr>\n",
       "      <th>$Mean(var(n))$</th>\n",
       "      <td>0.67</td>\n",
       "      <td>0.75</td>\n",
       "      <td>0.80</td>\n",
       "      <td>0.84</td>\n",
       "      <td>0.86</td>\n",
       "      <td>0.87</td>\n",
       "      <td>0.89</td>\n",
       "      <td>0.90</td>\n",
       "      <td>0.91</td>\n",
       "      <td>0.92</td>\n",
       "      <td>...</td>\n",
       "      <td>0.99</td>\n",
       "      <td>0.99</td>\n",
       "      <td>1.00</td>\n",
       "      <td>1.00</td>\n",
       "      <td>1.00</td>\n",
       "      <td>0.99</td>\n",
       "      <td>0.99</td>\n",
       "      <td>1.00</td>\n",
       "      <td>1.00</td>\n",
       "      <td>0.99</td>\n",
       "    </tr>\n",
       "    <tr>\n",
       "      <th>$std_{pos}(n)$</th>\n",
       "      <td>0.61</td>\n",
       "      <td>0.54</td>\n",
       "      <td>0.48</td>\n",
       "      <td>0.44</td>\n",
       "      <td>0.41</td>\n",
       "      <td>0.38</td>\n",
       "      <td>0.36</td>\n",
       "      <td>0.34</td>\n",
       "      <td>0.33</td>\n",
       "      <td>0.31</td>\n",
       "      <td>...</td>\n",
       "      <td>0.07</td>\n",
       "      <td>0.07</td>\n",
       "      <td>0.07</td>\n",
       "      <td>0.07</td>\n",
       "      <td>0.07</td>\n",
       "      <td>0.07</td>\n",
       "      <td>0.07</td>\n",
       "      <td>0.07</td>\n",
       "      <td>0.07</td>\n",
       "      <td>0.07</td>\n",
       "    </tr>\n",
       "    <tr>\n",
       "      <th>$std_{neg}(n)$</th>\n",
       "      <td>0.35</td>\n",
       "      <td>0.34</td>\n",
       "      <td>0.32</td>\n",
       "      <td>0.31</td>\n",
       "      <td>0.30</td>\n",
       "      <td>0.28</td>\n",
       "      <td>0.27</td>\n",
       "      <td>0.26</td>\n",
       "      <td>0.25</td>\n",
       "      <td>0.24</td>\n",
       "      <td>...</td>\n",
       "      <td>0.07</td>\n",
       "      <td>0.07</td>\n",
       "      <td>0.07</td>\n",
       "      <td>0.07</td>\n",
       "      <td>0.07</td>\n",
       "      <td>0.07</td>\n",
       "      <td>0.07</td>\n",
       "      <td>0.07</td>\n",
       "      <td>0.07</td>\n",
       "      <td>0.07</td>\n",
       "    </tr>\n",
       "    <tr>\n",
       "      <th>$quant_{0.8}(n)$</th>\n",
       "      <td>1.00</td>\n",
       "      <td>1.07</td>\n",
       "      <td>1.10</td>\n",
       "      <td>1.12</td>\n",
       "      <td>1.13</td>\n",
       "      <td>1.13</td>\n",
       "      <td>1.14</td>\n",
       "      <td>1.14</td>\n",
       "      <td>1.14</td>\n",
       "      <td>1.14</td>\n",
       "      <td>...</td>\n",
       "      <td>1.05</td>\n",
       "      <td>1.05</td>\n",
       "      <td>1.06</td>\n",
       "      <td>1.05</td>\n",
       "      <td>1.05</td>\n",
       "      <td>1.05</td>\n",
       "      <td>1.05</td>\n",
       "      <td>1.05</td>\n",
       "      <td>1.05</td>\n",
       "      <td>1.05</td>\n",
       "    </tr>\n",
       "    <tr>\n",
       "      <th>$quant_{0.95}(n)$</th>\n",
       "      <td>1.58</td>\n",
       "      <td>1.58</td>\n",
       "      <td>1.56</td>\n",
       "      <td>1.53</td>\n",
       "      <td>1.51</td>\n",
       "      <td>1.48</td>\n",
       "      <td>1.46</td>\n",
       "      <td>1.45</td>\n",
       "      <td>1.43</td>\n",
       "      <td>1.41</td>\n",
       "      <td>...</td>\n",
       "      <td>1.12</td>\n",
       "      <td>1.12</td>\n",
       "      <td>1.12</td>\n",
       "      <td>1.12</td>\n",
       "      <td>1.12</td>\n",
       "      <td>1.11</td>\n",
       "      <td>1.11</td>\n",
       "      <td>1.11</td>\n",
       "      <td>1.11</td>\n",
       "      <td>1.11</td>\n",
       "    </tr>\n",
       "    <tr>\n",
       "      <th>$quant_{0.99}(n)$</th>\n",
       "      <td>2.20</td>\n",
       "      <td>2.12</td>\n",
       "      <td>2.02</td>\n",
       "      <td>1.93</td>\n",
       "      <td>1.87</td>\n",
       "      <td>1.82</td>\n",
       "      <td>1.77</td>\n",
       "      <td>1.74</td>\n",
       "      <td>1.71</td>\n",
       "      <td>1.68</td>\n",
       "      <td>...</td>\n",
       "      <td>1.17</td>\n",
       "      <td>1.17</td>\n",
       "      <td>1.17</td>\n",
       "      <td>1.17</td>\n",
       "      <td>1.17</td>\n",
       "      <td>1.17</td>\n",
       "      <td>1.17</td>\n",
       "      <td>1.17</td>\n",
       "      <td>1.17</td>\n",
       "      <td>1.17</td>\n",
       "    </tr>\n",
       "    <tr>\n",
       "      <th>$quant_{0.999}(n)$</th>\n",
       "      <td>3.05</td>\n",
       "      <td>2.82</td>\n",
       "      <td>2.59</td>\n",
       "      <td>2.45</td>\n",
       "      <td>2.33</td>\n",
       "      <td>2.23</td>\n",
       "      <td>2.17</td>\n",
       "      <td>2.14</td>\n",
       "      <td>2.07</td>\n",
       "      <td>1.99</td>\n",
       "      <td>...</td>\n",
       "      <td>1.23</td>\n",
       "      <td>1.23</td>\n",
       "      <td>1.23</td>\n",
       "      <td>1.23</td>\n",
       "      <td>1.23</td>\n",
       "      <td>1.23</td>\n",
       "      <td>1.23</td>\n",
       "      <td>1.23</td>\n",
       "      <td>1.23</td>\n",
       "      <td>1.23</td>\n",
       "    </tr>\n",
       "    <tr>\n",
       "      <th>$quant_{0.9999}(n)$</th>\n",
       "      <td>3.71</td>\n",
       "      <td>3.61</td>\n",
       "      <td>3.12</td>\n",
       "      <td>2.93</td>\n",
       "      <td>2.78</td>\n",
       "      <td>2.72</td>\n",
       "      <td>2.57</td>\n",
       "      <td>2.57</td>\n",
       "      <td>2.46</td>\n",
       "      <td>2.23</td>\n",
       "      <td>...</td>\n",
       "      <td>1.29</td>\n",
       "      <td>1.29</td>\n",
       "      <td>1.29</td>\n",
       "      <td>1.28</td>\n",
       "      <td>1.29</td>\n",
       "      <td>1.28</td>\n",
       "      <td>1.28</td>\n",
       "      <td>1.28</td>\n",
       "      <td>1.29</td>\n",
       "      <td>1.28</td>\n",
       "    </tr>\n",
       "  </tbody>\n",
       "</table>\n",
       "<p>9 rows × 198 columns</p>\n",
       "</div>"
      ],
      "text/plain": [
       "$n$                   3     4     5     6     7     8     9     10    11   \\\n",
       "$E(var(n))$          0.67  0.75  0.80  0.83  0.86  0.88  0.89  0.90  0.91   \n",
       "$Mean(var(n))$       0.67  0.75  0.80  0.84  0.86  0.87  0.89  0.90  0.91   \n",
       "$std_{pos}(n)$       0.61  0.54  0.48  0.44  0.41  0.38  0.36  0.34  0.33   \n",
       "$std_{neg}(n)$       0.35  0.34  0.32  0.31  0.30  0.28  0.27  0.26  0.25   \n",
       "$quant_{0.8}(n)$     1.00  1.07  1.10  1.12  1.13  1.13  1.14  1.14  1.14   \n",
       "$quant_{0.95}(n)$    1.58  1.58  1.56  1.53  1.51  1.48  1.46  1.45  1.43   \n",
       "$quant_{0.99}(n)$    2.20  2.12  2.02  1.93  1.87  1.82  1.77  1.74  1.71   \n",
       "$quant_{0.999}(n)$   3.05  2.82  2.59  2.45  2.33  2.23  2.17  2.14  2.07   \n",
       "$quant_{0.9999}(n)$  3.71  3.61  3.12  2.93  2.78  2.72  2.57  2.57  2.46   \n",
       "\n",
       "$n$                   12   ...   191   192   193   194   195   196   197  \\\n",
       "$E(var(n))$          0.92  ...  0.99  0.99  0.99  0.99  0.99  0.99  0.99   \n",
       "$Mean(var(n))$       0.92  ...  0.99  0.99  1.00  1.00  1.00  0.99  0.99   \n",
       "$std_{pos}(n)$       0.31  ...  0.07  0.07  0.07  0.07  0.07  0.07  0.07   \n",
       "$std_{neg}(n)$       0.24  ...  0.07  0.07  0.07  0.07  0.07  0.07  0.07   \n",
       "$quant_{0.8}(n)$     1.14  ...  1.05  1.05  1.06  1.05  1.05  1.05  1.05   \n",
       "$quant_{0.95}(n)$    1.41  ...  1.12  1.12  1.12  1.12  1.12  1.11  1.11   \n",
       "$quant_{0.99}(n)$    1.68  ...  1.17  1.17  1.17  1.17  1.17  1.17  1.17   \n",
       "$quant_{0.999}(n)$   1.99  ...  1.23  1.23  1.23  1.23  1.23  1.23  1.23   \n",
       "$quant_{0.9999}(n)$  2.23  ...  1.29  1.29  1.29  1.28  1.29  1.28  1.28   \n",
       "\n",
       "$n$                   198   199   200  \n",
       "$E(var(n))$          0.99  0.99  0.99  \n",
       "$Mean(var(n))$       1.00  1.00  0.99  \n",
       "$std_{pos}(n)$       0.07  0.07  0.07  \n",
       "$std_{neg}(n)$       0.07  0.07  0.07  \n",
       "$quant_{0.8}(n)$     1.05  1.05  1.05  \n",
       "$quant_{0.95}(n)$    1.11  1.11  1.11  \n",
       "$quant_{0.99}(n)$    1.17  1.17  1.17  \n",
       "$quant_{0.999}(n)$   1.23  1.23  1.23  \n",
       "$quant_{0.9999}(n)$  1.28  1.29  1.28  \n",
       "\n",
       "[9 rows x 198 columns]"
      ]
     },
     "execution_count": 8,
     "metadata": {},
     "output_type": "execute_result"
    }
   ],
   "source": [
    "lookuptable"
   ]
  },
  {
   "cell_type": "code",
   "execution_count": 12,
   "id": "db423b15-b83f-40a6-877e-3bbb43889d0a",
   "metadata": {},
   "outputs": [
    {
     "name": "stdout",
     "output_type": "stream",
     "text": [
      "The highest standard error of means is 0.0019\n"
     ]
    }
   ],
   "source": [
    "lookuptable_bias = pd.read_csv(r\"lookup_tables\\lookup_table_biased_2d.csv\", index_col=0)\n",
    "std_pos = lookuptable_bias.loc[\"$std_{pos}(n)$\"].astype(float).values\n",
    "std_neg = lookuptable_bias.loc[\"$std_{neg}(n)$\"].astype(float).values\n",
    "stds = np.concatenate((std_pos, std_neg))\n",
    "highest_value = np.max(stds)\n",
    "sem = highest_value / np.sqrt(100000)\n",
    "print(\"The highest standard error of means is \" + \"{:.4f}\".format(sem))"
   ]
  },
  {
   "cell_type": "markdown",
   "id": "981a7fa0-af26-4c41-8cbe-e2a42a77d40a",
   "metadata": {},
   "source": [
    "### 2.2 Plots"
   ]
  },
  {
   "cell_type": "markdown",
   "id": "f279f3ae-467e-4a3c-ae24-15d6bffbb351",
   "metadata": {},
   "source": [
    "#### Unbiased"
   ]
  },
  {
   "cell_type": "code",
   "execution_count": 13,
   "id": "e9ab4deb-e9f3-420f-9c06-0b1581c973ab",
   "metadata": {},
   "outputs": [],
   "source": [
    "n_max_points = 100\n",
    "n_simulations = 10000\n",
    "seed = np.random.default_rng(100)\n",
    "n_points = np.arange(3, n_max_points+1, 1)"
   ]
  },
  {
   "cell_type": "code",
   "execution_count": 14,
   "id": "affa057a-5ead-4ac4-a732-de8850285dd8",
   "metadata": {},
   "outputs": [],
   "source": [
    "sigma = 1\n",
    "array_sim_variance_sigma1 = sv.simulate_variance_estimation(n_max_points, n_simulations, sigma, seed,\n",
    "                                                            bias=False, different_x_y=True)\n",
    "\n",
    "std_high_variance_sigma1, std_low_variance_sigma1, mean_variance_sigma1 = \\\n",
    "ch.sided_deviations(array_sim_variance_sigma1)"
   ]
  },
  {
   "cell_type": "code",
   "execution_count": 15,
   "id": "9e9b21bc-6817-469a-8b6f-eeae46c00456",
   "metadata": {},
   "outputs": [],
   "source": [
    "sigma = 9\n",
    "array_sim_variance_sigma9 = sv.simulate_variance_estimation(n_max_points, n_simulations, sigma, seed,\n",
    "                                                            bias=False, different_x_y=True)\n",
    "std_high_variance_sigma9, std_low_variance_sigma9, mean_variance_sigma9 = \\\n",
    "ch.sided_deviations(array_sim_variance_sigma9)\n",
    "\n",
    "std_high_variance_sigma9_norm = std_high_variance_sigma9 / sigma**2\n",
    "std_low_variance_sigma9_norm = std_low_variance_sigma9 / sigma**2\n",
    "mean_variance_sigma9_norm = mean_variance_sigma9 / sigma**2"
   ]
  },
  {
   "cell_type": "code",
   "execution_count": 16,
   "id": "ed8ccad0-ec7f-4f9c-aae3-51d1a42232b4",
   "metadata": {},
   "outputs": [
    {
     "data": {
      "image/png": "[encoded data removed]",
      "text/plain": [
       "<Figure size 432x288 with 3 Axes>"
      ]
     },
     "metadata": {
      "needs_background": "light"
     },
     "output_type": "display_data"
    }
   ],
   "source": [
    "rcParams[\"axes.linewidth\"] = 2\n",
    "fig = plt.figure(figsize=(6, 4))\n",
    "bax = brokenaxes(xlims=((0, 20.5), (89.5, 100.5)), hspace=.15)\n",
    "bax.errorbar(x=n_points, y=mean_variance_sigma9_norm, \n",
    "             yerr=[std_low_variance_sigma9_norm, std_high_variance_sigma9_norm], \n",
    "             capsize=3, fmt=\"x\", lw=2, markersize=6, markeredgewidth=1.5)\n",
    "bax.errorbar(x=n_points, y=mean_variance_sigma1, \n",
    "             yerr=[std_low_variance_sigma1, std_high_variance_sigma1], \n",
    "             capsize=3, fmt=\"x\", lw=2, markersize=6, markeredgewidth=1.5)\n",
    "bax.plot(n_points, sv.expected_value_variance(n_points, sigma=1, bias=False, different_x_y=True), \n",
    "         color=\"k\", lw=2)\n",
    "bax.set_ylabel(r\"$S^2/\\sigma^2$\", fontsize=21, labelpad=40)\n",
    "bax.set_xlabel(r\"$n$\", fontsize=21, labelpad=25)\n",
    "bax.set_ylim(0, 2)\n",
    "mc.customize_figure(tick_spacing_y=0.5, tick_spacing_x=10, bax=bax)\n",
    "fig.savefig(r\"plt_figures\\unbias_var_plot_1.svg\")"
   ]
  },
  {
   "cell_type": "code",
   "execution_count": 17,
   "id": "e244f2b9-8d24-4832-bc4a-813927f9a06c",
   "metadata": {
    "tags": []
   },
   "outputs": [
    {
     "data": {
      "image/png": "[encoded data removed]",
      "text/plain": [
       "<Figure size 216x144 with 1 Axes>"
      ]
     },
     "metadata": {
      "needs_background": "light"
     },
     "output_type": "display_data"
    }
   ],
   "source": [
    "rcParams[\"axes.linewidth\"] = 2\n",
    "n = 3\n",
    "fig, ax = plt.subplots(figsize=(3, 2))\n",
    "x = np.linspace(0, 3, 100)\n",
    "ratio = array_sim_variance_sigma1[n-3] / sv.expected_value_variance(n, 1, bias=False,\n",
    "                                                                    different_x_y=True)\n",
    "ax.set_xlabel(r\"$S^2/E(S^2)$\", fontsize=21)\n",
    "std = np.std(ratio)\n",
    "ax.hist(x=ratio, bins=20, range=(0, 3), density=True)\n",
    "ax.plot(x, norm.pdf(x=x, loc=1, scale=std), color=\"k\", lw=2)\n",
    "ax.set_ylabel(\"PD\", fontsize=21)\n",
    "ax.set_xlim(0, 3)\n",
    "ax.set_ylim(0, 0.8)\n",
    "ax.tick_params(labelsize=20, width=2, length=6)\n",
    "tick_spacing_x = 1\n",
    "tick_spacing_y = 0.2\n",
    "ax.xaxis.set_major_locator(ticker.MultipleLocator(tick_spacing_x))\n",
    "ax.yaxis.set_major_locator(ticker.MultipleLocator(tick_spacing_y))\n",
    "second_axis(ax, \"top\", tick_spacing_x)\n",
    "second_axis(ax, \"right\", tick_spacing_y)\n",
    "fig.savefig(r\"plt_figures\\unbias_var_plot_2_n_3.svg\")"
   ]
  },
  {
   "cell_type": "code",
   "execution_count": 18,
   "id": "402d559b-d77b-46b6-b0e2-2cb3229ebe49",
   "metadata": {},
   "outputs": [
    {
     "data": {
      "image/png": "[encoded data removed]",
      "text/plain": [
       "<Figure size 216x144 with 1 Axes>"
      ]
     },
     "metadata": {
      "needs_background": "light"
     },
     "output_type": "display_data"
    }
   ],
   "source": [
    "rcParams[\"axes.linewidth\"] = 2\n",
    "n = 27\n",
    "fig, ax = plt.subplots(figsize=(3, 2))\n",
    "x = np.linspace(0, 3, 100)\n",
    "ratio = array_sim_variance_sigma1[n-3] / sv.expected_value_variance(n, 1, bias=False,\n",
    "                                                                    different_x_y=True)\n",
    "ax.set_xlabel(r\"$S^2/E(S^2)$\", fontsize=21)\n",
    "std = np.std(ratio)\n",
    "ax.hist(x=ratio, bins=20, range=(0, 3), density=True)\n",
    "ax.plot(x, norm.pdf(x=x, loc=1, scale=std), color=\"k\", lw=2)\n",
    "ax.set_ylabel(\"PD\", fontsize=21)\n",
    "ax.set_xlim(0, 3)\n",
    "ax.set_ylim(0, 2.4)\n",
    "ax.tick_params(labelsize=20, width=2, length=6)\n",
    "tick_spacing_x = 1\n",
    "tick_spacing_y = 0.8\n",
    "ax.xaxis.set_major_locator(ticker.MultipleLocator(tick_spacing_x))\n",
    "ax.yaxis.set_major_locator(ticker.MultipleLocator(tick_spacing_y))\n",
    "second_axis(ax, \"top\", tick_spacing_x)\n",
    "second_axis(ax, \"right\", tick_spacing_y)\n",
    "fig.savefig(r\"plt_figures\\unbias_var_plot_2_n_27.svg\")"
   ]
  },
  {
   "cell_type": "markdown",
   "id": "293a8bcf-186e-4a4d-802b-c6d0c4f328b8",
   "metadata": {},
   "source": [
    "#### Biased"
   ]
  },
  {
   "cell_type": "code",
   "execution_count": 19,
   "id": "d35c34bc-a7ac-4190-8a0f-7d55c5f6333f",
   "metadata": {},
   "outputs": [],
   "source": [
    "n_max_points = 100\n",
    "n_simulations = 10000\n",
    "seed = np.random.default_rng(100)\n",
    "n_points = np.arange(3, n_max_points+1, 1)"
   ]
  },
  {
   "cell_type": "code",
   "execution_count": 20,
   "id": "12c1b568-adbd-40a2-b126-1f6b7a132232",
   "metadata": {},
   "outputs": [],
   "source": [
    "sigma = 1\n",
    "array_sim_variance_sigma1 = sv.simulate_variance_estimation(n_max_points, n_simulations, sigma, seed,\n",
    "                                                            bias=True, different_x_y=True)\n",
    "\n",
    "std_high_variance_sigma1, std_low_variance_sigma1, mean_variance_sigma1 = \\\n",
    "ch.sided_deviations(array_sim_variance_sigma1)"
   ]
  },
  {
   "cell_type": "code",
   "execution_count": 21,
   "id": "d03c38eb-e632-436a-a10f-c2ecc0571b0e",
   "metadata": {},
   "outputs": [],
   "source": [
    "sigma = 9\n",
    "array_sim_variance_sigma9 = sv.simulate_variance_estimation(n_max_points, n_simulations, sigma, seed,\n",
    "                                                            bias=True, different_x_y=True)\n",
    "std_high_variance_sigma9, std_low_variance_sigma9, mean_variance_sigma9 = \\\n",
    "ch.sided_deviations(array_sim_variance_sigma9)\n",
    "\n",
    "std_high_variance_sigma9_norm = std_high_variance_sigma9 / sigma**2\n",
    "std_low_variance_sigma9_norm = std_low_variance_sigma9 / sigma**2\n",
    "mean_variance_sigma9_norm = mean_variance_sigma9 / sigma**2"
   ]
  },
  {
   "cell_type": "code",
   "execution_count": 22,
   "id": "c3a27ff0-e082-4082-ace1-9a0eb86dbe12",
   "metadata": {},
   "outputs": [
    {
     "data": {
      "image/png": "[encoded data removed]",
      "text/plain": [
       "<Figure size 432x288 with 3 Axes>"
      ]
     },
     "metadata": {
      "needs_background": "light"
     },
     "output_type": "display_data"
    }
   ],
   "source": [
    "rcParams[\"axes.linewidth\"] = 2\n",
    "fig = plt.figure(figsize=(6, 4))\n",
    "bax = brokenaxes(xlims=((0, 20.5), (89.5, 100.5)), hspace=.15)\n",
    "bax.errorbar(x=n_points, y=mean_variance_sigma9_norm, \n",
    "             yerr=[std_low_variance_sigma9_norm, std_high_variance_sigma9_norm], \n",
    "             capsize=3, fmt=\"x\", lw=2, markersize=6, markeredgewidth=1.5)\n",
    "bax.errorbar(x=n_points, y=mean_variance_sigma1, \n",
    "             yerr=[std_low_variance_sigma1, std_high_variance_sigma1], \n",
    "             capsize=3, fmt=\"x\", lw=2, markersize=6, markeredgewidth=1.5)\n",
    "bax.plot(n_points, sv.expected_value_variance(n_points, sigma=1, bias=True, different_x_y=True), \n",
    "         color=\"k\", lw=2)\n",
    "bax.set_ylabel(r\"$\\tilde{S}^2/\\sigma^2$\", fontsize=21, labelpad=40)\n",
    "bax.set_xlabel(r\"$n$\", fontsize=21, labelpad=25)\n",
    "bax.set_ylim(0, 2)\n",
    "mc.customize_figure(tick_spacing_y=0.5, tick_spacing_x=10, bax=bax)\n",
    "fig.savefig(r\"plt_figures\\bias_var_plot_1.svg\")"
   ]
  },
  {
   "cell_type": "code",
   "execution_count": 23,
   "id": "8d4ae155-79c3-4fa2-b0e8-e9c4f0b4614e",
   "metadata": {},
   "outputs": [
    {
     "data": {
      "image/png": "[encoded data removed]",
      "text/plain": [
       "<Figure size 216x144 with 1 Axes>"
      ]
     },
     "metadata": {
      "needs_background": "light"
     },
     "output_type": "display_data"
    }
   ],
   "source": [
    "rcParams[\"axes.linewidth\"] = 2\n",
    "n = 3\n",
    "fig, ax = plt.subplots(figsize=(3, 2))\n",
    "x = np.linspace(0, 3, 100)\n",
    "ratio = array_sim_variance_sigma1[n-3] / sv.expected_value_variance(n, 1, bias=True,\n",
    "                                                                    different_x_y=True)\n",
    "ax.set_xlabel(r\"$\\tilde{S}^2/E(\\tilde{S}^2)$\", fontsize=21)\n",
    "std = np.std(ratio)\n",
    "ax.hist(x=ratio, bins=20, range=(0, 3), density=True)\n",
    "ax.plot(x, norm.pdf(x=x, loc=1, scale=std), color=\"k\", lw=2)\n",
    "ax.set_ylabel(\"PD\", fontsize=21)\n",
    "ax.set_xlim(0, 3)\n",
    "ax.set_ylim(0, 0.8)\n",
    "ax.tick_params(labelsize=20, width=2, length=6)\n",
    "tick_spacing_x = 1\n",
    "tick_spacing_y = 0.2\n",
    "ax.xaxis.set_major_locator(ticker.MultipleLocator(tick_spacing_x))\n",
    "ax.yaxis.set_major_locator(ticker.MultipleLocator(tick_spacing_y))\n",
    "second_axis(ax, \"top\", tick_spacing_x)\n",
    "second_axis(ax, \"right\", tick_spacing_y)\n",
    "fig.savefig(r\"plt_figures\\bias_var_plot_2_n_3.svg\")"
   ]
  },
  {
   "cell_type": "code",
   "execution_count": 24,
   "id": "4ab0e770-0399-4300-ba89-cd28a19061d1",
   "metadata": {},
   "outputs": [
    {
     "data": {
      "image/png": "[encoded data removed]",
      "text/plain": [
       "<Figure size 216x144 with 1 Axes>"
      ]
     },
     "metadata": {
      "needs_background": "light"
     },
     "output_type": "display_data"
    }
   ],
   "source": [
    "rcParams[\"axes.linewidth\"] = 2\n",
    "n = 27\n",
    "fig, ax = plt.subplots(figsize=(3, 2))\n",
    "x = np.linspace(0, 3, 100)\n",
    "ratio = array_sim_variance_sigma1[n-3] / sv.expected_value_variance(n, 1, bias=True,\n",
    "                                                                    different_x_y=True)\n",
    "ax.set_xlabel(r\"$\\tilde{S}^2/E(\\tilde{S}^2)$\", fontsize=21)\n",
    "std = np.std(ratio)\n",
    "ax.hist(x=ratio, bins=20, range=(0, 3), density=True)\n",
    "ax.plot(x, norm.pdf(x=x, loc=1, scale=std), color=\"k\", lw=2)\n",
    "ax.set_ylabel(\"PD\", fontsize=21)\n",
    "ax.set_xlim(0, 3)\n",
    "ax.set_ylim(0, 2.4)\n",
    "ax.tick_params(labelsize=20, width=2, length=6)\n",
    "tick_spacing_x = 1\n",
    "tick_spacing_y = 0.8\n",
    "ax.xaxis.set_major_locator(ticker.MultipleLocator(tick_spacing_x))\n",
    "ax.yaxis.set_major_locator(ticker.MultipleLocator(tick_spacing_y))\n",
    "second_axis(ax, \"top\", tick_spacing_x)\n",
    "second_axis(ax, \"right\", tick_spacing_y)\n",
    "fig.savefig(r\"plt_figures\\bias_var_plot_2_n_27.svg\")"
   ]
  },
  {
   "cell_type": "markdown",
   "id": "a7ec2c26-6d08-4f3c-9c9e-a1cfc1cf075d",
   "metadata": {},
   "source": [
    "## 3. The true positive rate TPR and false discovery rate FDR with selection by variance"
   ]
  },
  {
   "cell_type": "markdown",
   "id": "4dd825c5-c89b-4c51-87d2-62a5baf2324a",
   "metadata": {},
   "source": [
    "#### Unbiased"
   ]
  },
  {
   "cell_type": "code",
   "execution_count": 25,
   "id": "1a320d2f-baf0-46bc-b374-5939c0c3292d",
   "metadata": {},
   "outputs": [],
   "source": [
    "lookuptable_unbias = pd.read_csv(r\"lookup_tables\\lookup_table_unbiased_2d.csv\", index_col=0)"
   ]
  },
  {
   "cell_type": "code",
   "execution_count": 26,
   "id": "30913d96-2c43-4ada-9623-025d5f8ac58e",
   "metadata": {},
   "outputs": [],
   "source": [
    "cluster_std = 8\n",
    "max_unbias_1 = lookuptable_unbias.loc[\"$quant_{0.8}(n)$\"].astype(float).values * cluster_std**2\n",
    "max_unbias_2 = lookuptable_unbias.loc[\"$quant_{0.95}(n)$\"].astype(float).values * cluster_std**2\n",
    "max_unbias_3 = lookuptable_unbias.loc[\"$quant_{0.99}(n)$\"].astype(float).values * cluster_std**2\n",
    "max_unbias_4 = lookuptable_unbias.loc[\"$quant_{0.999}(n)$\"].astype(float).values * cluster_std**2\n",
    "max_unbias_5 = lookuptable_unbias.loc[\"$quant_{0.9999}(n)$\"].astype(float).values * cluster_std**2"
   ]
  },
  {
   "cell_type": "code",
   "execution_count": 17,
   "id": "437c62c8-72f6-4d49-9b5b-40fbafcab8ff",
   "metadata": {},
   "outputs": [],
   "source": [
    "n_simulations = 30\n",
    "max_variances = [max_unbias_1, max_unbias_2, max_unbias_3, max_unbias_4, max_unbias_5]\n",
    "parent_intensities = [1e-5, 2e-5, 3e-5, 4e-5, 5e-5, 10e-5, 15e-5, 20e-5]\n",
    "limits_ = si.limits(parent_intensities, 15e-5, 5000)\n",
    "alg_param = dict(eps=25, min_samples=3)\n",
    "sim_param = dict(cluster_mu=9, cluster_std=8, min_samples=3, seed=np.random.default_rng(100))\n",
    "unbias_var_means, unbias_var_stds = sv.selection_by_variance(n_simulations, parent_intensities,\n",
    "                                                             limits_, sim_param, alg_param, \n",
    "                                                             max_variances, bessel_correction=True)\n",
    "np.save(file=r\"npy_files\\unbias_var_means.npy\", arr=unbias_var_means)\n",
    "np.save(file=r\"npy_files\\unbias_var_stds.npy\", arr=unbias_var_stds)"
   ]
  },
  {
   "cell_type": "code",
   "execution_count": 27,
   "id": "eca278dc-64ef-4a57-b9c8-dd6064068c17",
   "metadata": {},
   "outputs": [],
   "source": [
    "unbias_var_means = np.load(r\"npy_files\\unbias_var_means.npy\")\n",
    "unbias_var_stds = np.load(r\"npy_files\\unbias_var_stds.npy\")"
   ]
  },
  {
   "cell_type": "code",
   "execution_count": 28,
   "id": "4b0ce782-cb1a-4f66-a018-1bd2f07c1c03",
   "metadata": {},
   "outputs": [
    {
     "data": {
      "image/png": "[encoded data removed]",
      "text/plain": [
       "<Figure size 432x288 with 1 Axes>"
      ]
     },
     "metadata": {
      "needs_background": "light"
     },
     "output_type": "display_data"
    }
   ],
   "source": [
    "rcParams[\"axes.linewidth\"] = 2\n",
    "fig, ax = plt.subplots(figsize=(6, 4))\n",
    "x = [1e-5, 2e-5, 3e-5, 4e-5, 5e-5, 10e-5, 15e-5, 20e-5]\n",
    "color = [\"blue\", \"magenta\", \"grey\", \"orange\", \"teal\"]\n",
    "patches = {}\n",
    "for i, threshold in enumerate([\"$q_{0.8}$\", \"$q_{0.95}$\", \"$q_{0.99}$\", \"$q_{0.999}$\",\n",
    "                               \"$q_{0.9999}$\"]):\n",
    "    fdr = unbias_var_means[:, i, 0]\n",
    "    fdr_yerr = unbias_var_stds[:, i, 0]\n",
    "    tpr = unbias_var_means[:, i, 1]\n",
    "    tpr_yerr = unbias_var_stds[:, i, 1]\n",
    "    ax.errorbar(x, fdr, yerr=fdr_yerr, ls=(0, (5, 5)), c=color[i], marker=\"\", markeredgewidth=2)\n",
    "    ax.errorbar(x, tpr, yerr=tpr_yerr, c=color[i], marker=\"\", markeredgewidth=2)\n",
    "    patches[\"patch{0}\".format(i)] = mpatches.Patch(color=color[i], label=threshold)\n",
    "handles_legend = [mlines.Line2D([], [], label=\"TPR\", c=\"k\", marker=\"\"), \n",
    "                  mlines.Line2D([], [], label=\"FDR\", linestyle=(0, (5, 5)), c=\"k\", marker=\"\")]\n",
    "for patch in patches.values():\n",
    "    handles_legend.append(patch)\n",
    "second_legend = ax.legend(handles=handles_legend, loc=1, fontsize=13, framealpha=0.3)\n",
    "ax.add_artist(second_legend)\n",
    "ax.ticklabel_format(style=\"sci\", axis=\"x\", scilimits=(0,0))\n",
    "ax.set_xlabel(\"Cluster density (\" + r\"$10^{-4}$\" + \")\", fontsize=21)\n",
    "ax.set_ylabel(\"Rate\", fontsize=21)\n",
    "ax.tick_params(labelsize=20, width=2, length=6)\n",
    "ax.xaxis.get_offset_text().set_visible(False)\n",
    "tick_spacing_x = 5e-5\n",
    "ax.xaxis.set_major_locator(ticker.MultipleLocator(tick_spacing_x))\n",
    "tick_spacing_y = 0.2\n",
    "ax.yaxis.set_major_locator(ticker.MultipleLocator(tick_spacing_y))\n",
    "ax.set_ylim(0, 1)\n",
    "second_axis(ax, \"top\", tick_spacing_x)\n",
    "second_axis(ax, \"right\", tick_spacing_y)\n",
    "ax.set_xlim(0, 20e-5)\n",
    "fig.savefig(r\"plt_figures\\unbias_var.svg\")"
   ]
  },
  {
   "cell_type": "markdown",
   "id": "6431a1f2-30be-41f7-bdf9-ec1f99a87fef",
   "metadata": {},
   "source": [
    "#### Biased"
   ]
  },
  {
   "cell_type": "code",
   "execution_count": 29,
   "id": "322c876b-c32e-408c-9c81-792187b44eb0",
   "metadata": {},
   "outputs": [],
   "source": [
    "lookuptable_bias = pd.read_csv(r\"lookup_tables\\lookup_table_biased_2d.csv\", index_col=0)"
   ]
  },
  {
   "cell_type": "code",
   "execution_count": 30,
   "id": "a556920a-44e1-4495-9605-902f94df1804",
   "metadata": {},
   "outputs": [],
   "source": [
    "cluster_std = 8\n",
    "max_bias_1 = lookuptable_bias.loc[\"$quant_{0.8}(n)$\"].astype(float).values * cluster_std**2\n",
    "max_bias_2 = lookuptable_bias.loc[\"$quant_{0.95}(n)$\"].astype(float).values * cluster_std**2\n",
    "max_bias_3 = lookuptable_bias.loc[\"$quant_{0.99}(n)$\"].astype(float).values * cluster_std**2\n",
    "max_bias_4 = lookuptable_bias.loc[\"$quant_{0.999}(n)$\"].astype(float).values * cluster_std**2\n",
    "max_bias_5 = lookuptable_bias.loc[\"$quant_{0.9999}(n)$\"].astype(float).values * cluster_std**2"
   ]
  },
  {
   "cell_type": "code",
   "execution_count": 16,
   "id": "a627e8dd-c13e-4988-83bf-f07b0f4ccc6e",
   "metadata": {},
   "outputs": [],
   "source": [
    "n_simulations = 30\n",
    "max_variances = [max_bias_1, max_bias_2, max_bias_3, max_bias_4, max_bias_5]\n",
    "parent_intensities = [1e-5, 2e-5, 3e-5, 4e-5, 5e-5, 10e-5, 15e-5, 20e-5]\n",
    "limits_ = si.limits(parent_intensities, 15e-5, 5000)\n",
    "alg_param = dict(eps=25, min_samples=3)\n",
    "sim_param = dict(cluster_mu=9, cluster_std=8, min_samples=3, seed=np.random.default_rng(100))\n",
    "bias_var_means, bias_var_stds = sv.selection_by_variance(n_simulations, parent_intensities, limits_,\n",
    "                                                         sim_param, alg_param, max_variances, \n",
    "                                                         bessel_correction=False)\n",
    "np.save(file=r\"npy_files\\bias_var_means.npy\", arr=bias_var_means)\n",
    "np.save(file=r\"npy_files\\bias_var_stds.npy\", arr=bias_var_stds)"
   ]
  },
  {
   "cell_type": "code",
   "execution_count": 31,
   "id": "1e312e94-c976-4ee7-873c-f99546f2615b",
   "metadata": {},
   "outputs": [],
   "source": [
    "bias_var_means = np.load(r\"npy_files\\bias_var_means.npy\")\n",
    "bias_var_stds = np.load(r\"npy_files\\bias_var_stds.npy\")"
   ]
  },
  {
   "cell_type": "code",
   "execution_count": 32,
   "id": "9c8d4fd6-ddab-4a2c-ae62-a2f12cae2a9c",
   "metadata": {},
   "outputs": [
    {
     "data": {
      "image/png": "[encoded data removed]",
      "text/plain": [
       "<Figure size 432x288 with 1 Axes>"
      ]
     },
     "metadata": {
      "needs_background": "light"
     },
     "output_type": "display_data"
    }
   ],
   "source": [
    "rcParams[\"axes.linewidth\"] = 2\n",
    "fig, ax = plt.subplots(figsize=(6, 4))\n",
    "x = [1e-5, 2e-5, 3e-5, 4e-5, 5e-5, 10e-5, 15e-5, 20e-5]\n",
    "color = [\"blue\", \"magenta\", \"grey\", \"orange\", \"teal\"]\n",
    "patches = {}\n",
    "for i, threshold in enumerate([\"$q_{0.8}$\", \"$q_{0.95}$\", \"$q_{0.99}$\", \"$q_{0.999}$\",\n",
    "                               \"$q_{0.9999}$\"]):\n",
    "    fdr = bias_var_means[:, i, 0]\n",
    "    fdr_yerr = bias_var_stds[:, i, 0]\n",
    "    tpr = bias_var_means[:, i, 1]\n",
    "    tpr_yerr = bias_var_stds[:, i, 1]\n",
    "    ax.errorbar(x, fdr, yerr=fdr_yerr, ls=(0, (5, 5)), c=color[i], marker=\"\", markeredgewidth=2)\n",
    "    ax.errorbar(x, tpr, yerr=tpr_yerr, c=color[i], marker=\"\", markeredgewidth=2)\n",
    "    patches[\"patch{0}\".format(i)] = mpatches.Patch(color=color[i], label=threshold)\n",
    "handles_legend = [mlines.Line2D([], [], label=\"TPR\", c=\"k\", marker=\"\"), \n",
    "                  mlines.Line2D([], [], label=\"FDR\", linestyle=(0, (5, 5)), c=\"k\", marker=\"\")]\n",
    "for patch in patches.values():\n",
    "    handles_legend.append(patch)\n",
    "second_legend = ax.legend(handles=handles_legend, loc=1, fontsize=13, framealpha=0.3)\n",
    "ax.add_artist(second_legend)\n",
    "ax.ticklabel_format(style=\"sci\", axis=\"x\", scilimits=(0,0))\n",
    "ax.set_xlabel(\"Cluster density (\" + r\"$10^{-4}$\" + \")\", fontsize=21)\n",
    "ax.set_ylabel(\"Rate\", fontsize=21)\n",
    "ax.tick_params(labelsize=20, width=2, length=6)\n",
    "ax.xaxis.get_offset_text().set_visible(False)\n",
    "tick_spacing_x = 5e-5\n",
    "ax.xaxis.set_major_locator(ticker.MultipleLocator(tick_spacing_x))\n",
    "tick_spacing_y = 0.2\n",
    "ax.yaxis.set_major_locator(ticker.MultipleLocator(tick_spacing_y))\n",
    "ax.set_ylim(0, 1)\n",
    "second_axis(ax, \"top\", tick_spacing_x)\n",
    "second_axis(ax, \"right\", tick_spacing_y)\n",
    "ax.set_xlim(0, 20e-5)\n",
    "fig.savefig(r\"plt_figures\\bias_var.svg\")"
   ]
  },
  {
   "cell_type": "markdown",
   "id": "591e7d06-8def-4938-8846-9e25fa9e51c2",
   "metadata": {},
   "source": [
    "### Representation in pie chart"
   ]
  },
  {
   "cell_type": "markdown",
   "id": "9fa9c9ca-e61b-4738-b594-90280eed0094",
   "metadata": {},
   "source": [
    "Note that using quantiles as threshold allow to predict the ratio of false positives relative to condition negatives. The values of FP displayed in the pie charts are FP relative to condition negatives as well as condition positives."
   ]
  },
  {
   "cell_type": "markdown",
   "id": "3cc14f9e-a203-4847-bd5d-4dfd0e751b4c",
   "metadata": {},
   "source": [
    "#### Unbiased"
   ]
  },
  {
   "cell_type": "code",
   "execution_count": 33,
   "id": "ae72ce84-5b2b-4c82-9ee9-3372c066c2fe",
   "metadata": {},
   "outputs": [
    {
     "name": "stdout",
     "output_type": "stream",
     "text": [
      "FP - 0.05, TP - 0.20, FN - 0.02, TN - 0.72\n"
     ]
    }
   ],
   "source": [
    "sca_means = pd.read_csv(\"csv_files\\chc_merging_means.csv\", index_col=[0, 1])\n",
    "densities = sca_means.index.levels[0]\n",
    "density = densities[5]\n",
    "\n",
    "unbias_var_means = np.load(r\"npy_files\\unbias_var_means.npy\")\n",
    "\n",
    "condition_positive = merged = sca_means.loc[(density, slice(None)), \n",
    "                                            \"Algorithm merged clusters\"].values[0]\n",
    "condition_negative = 1 - condition_positive\n",
    "\n",
    "TPR = unbias_var_means[5, 1, 1]\n",
    "TP = TPR * condition_positive\n",
    "FN = condition_positive - TP\n",
    "FDR = unbias_var_means[5, 1, 0]\n",
    "FP = FDR * TP / (1-FDR)\n",
    "TN = condition_negative - FP\n",
    "\n",
    "print(f\"FP - {FP:.2f}, TP - {TP:.2f}, FN - {FN:.2f}, TN - {TN:.2f}\")"
   ]
  },
  {
   "cell_type": "code",
   "execution_count": 34,
   "id": "e6881577-2144-4fd9-85da-d5a551958d06",
   "metadata": {},
   "outputs": [
    {
     "data": {
      "image/png": "[encoded data removed]",
      "text/plain": [
       "<Figure size 360x360 with 1 Axes>"
      ]
     },
     "metadata": {},
     "output_type": "display_data"
    }
   ],
   "source": [
    "sizes = np.array([FP*100, TN*100, FN*100, TP*100])\n",
    "labels = [\"FP\", \"TN\", \"FN\", \"TP\"]\n",
    "colors = [\"lightgrey\", \"lightgrey\", \"grey\", \"grey\"]\n",
    "hatches = [\"//\", \"\", \"\", \"//\"]\n",
    "text_props = dict(size=21, va=\"center\", ha=\"center\", bbox=dict(boxstyle=\"square, pad=0.2\"))\n",
    "rounded_texts = [\"Correct\", None, \"Merged\", None]\n",
    "wedgealignments = [30, None, 15, None]\n",
    "startangle = 90\n",
    "stretch = 0.6\n",
    "rt_size = 21\n",
    "rt_h_space = 7\n",
    "rt_v_space = 1.02\n",
    "radius = 2\n",
    "labeldistance = 0.7\n",
    "\n",
    "fig, ax = pie_plot(sizes, labels, colors, labeldistance, radius, text_props, hatches, rounded_texts, \n",
    "                   rt_size, rt_h_space, rt_v_space, wedgealignments, stretch, startangle)\n",
    "fig.savefig(r\"plt_figures\\unbias_var_pie_plot.svg\")"
   ]
  },
  {
   "cell_type": "markdown",
   "id": "7230677b-4877-4234-9502-bd7933996017",
   "metadata": {
    "tags": []
   },
   "source": [
    "#### Biased"
   ]
  },
  {
   "cell_type": "code",
   "execution_count": 35,
   "id": "3a85d877-22c9-4f5c-8acd-b3000b812bae",
   "metadata": {},
   "outputs": [
    {
     "name": "stdout",
     "output_type": "stream",
     "text": [
      "FP - 0.05, TP - 0.20, FN - 0.02, TN - 0.72\n"
     ]
    }
   ],
   "source": [
    "sca_means = pd.read_csv(\"csv_files\\chc_merging_means.csv\", index_col=[0, 1])\n",
    "densities = sca_means.index.levels[0]\n",
    "density = densities[5]\n",
    "\n",
    "bias_var_means = np.load(r\"npy_files\\bias_var_means.npy\")\n",
    "\n",
    "condition_positive = merged = sca_means.loc[(density, slice(None)), \n",
    "                                            \"Algorithm merged clusters\"].values[0]\n",
    "condition_negative = 1 - condition_positive\n",
    "\n",
    "TPR = bias_var_means[5, 1, 1]\n",
    "TP = TPR * condition_positive\n",
    "FN = condition_positive - TP\n",
    "FDR = bias_var_means[5, 1, 0]\n",
    "FP = FDR * TP / (1-FDR)\n",
    "TN = condition_negative - FP\n",
    "\n",
    "print(f\"FP - {FP:.2f}, TP - {TP:.2f}, FN - {FN:.2f}, TN - {TN:.2f}\")"
   ]
  },
  {
   "cell_type": "code",
   "execution_count": 36,
   "id": "2b35748d-7706-43b6-85b1-bd59d8dc3a01",
   "metadata": {},
   "outputs": [
    {
     "data": {
      "image/png": "[encoded data removed]",
      "text/plain": [
       "<Figure size 360x360 with 1 Axes>"
      ]
     },
     "metadata": {},
     "output_type": "display_data"
    }
   ],
   "source": [
    "sizes = np.array([FP*100, TN*100, FN*100, TP*100])\n",
    "labels = [\"FP\", \"TN\", \"FN\", \"TP\"]\n",
    "colors = [\"lightgrey\", \"lightgrey\", \"grey\", \"grey\"]\n",
    "hatches = [\"//\", \"\", \"\", \"//\"]\n",
    "text_props = dict(size=21, va=\"center\", ha=\"center\", bbox=dict(boxstyle=\"square, pad=0.2\"))\n",
    "rounded_texts = [\"Correct\", None, \"Merged\", None]\n",
    "wedgealignments = [30, None, 15, None]\n",
    "startangle = 90\n",
    "stretch = 0.6\n",
    "rt_size = 21\n",
    "rt_h_space = 7\n",
    "rt_v_space = 1.02\n",
    "radius = 2\n",
    "labeldistance = 0.7\n",
    "\n",
    "fig, ax = pie_plot(sizes, labels, colors, labeldistance, radius, text_props, hatches, rounded_texts, \n",
    "                   rt_size, rt_h_space, rt_v_space, wedgealignments, stretch, startangle)\n",
    "fig.savefig(r\"plt_figures\\bias_var_pie_plot.svg\")"
   ]
  },
  {
   "cell_type": "markdown",
   "id": "eefba720-c2c6-4067-b991-f9abc7333131",
   "metadata": {},
   "source": [
    "## 4. The true positive rate TPR and false discovery rate FDR with selection by convex hull properties"
   ]
  },
  {
   "cell_type": "markdown",
   "id": "7c33d34d-f43d-46a4-b47a-ddb1e9e35363",
   "metadata": {},
   "source": [
    "#### Area"
   ]
  },
  {
   "cell_type": "code",
   "execution_count": 15,
   "id": "9d9cd89b-c7c6-42a1-ba61-a387ea21f405",
   "metadata": {},
   "outputs": [],
   "source": [
    "lookuptable_area = sv.lookuptable_convexhull(mode=\"area\", seed=100, n_max_points=200, \n",
    "                                             n_simulations=100000, sigma=1, \n",
    "                                             quantiles=[0.8, 0.95, 0.99, 0.999, 0.9999],\n",
    "                                             save_to=r\"lookup_tables\\lookup_table_area_2d_update.csv\")"
   ]
  },
  {
   "cell_type": "code",
   "execution_count": 12,
   "id": "0ae1a83b-c0e5-4df8-8201-35961f45fda1",
   "metadata": {},
   "outputs": [
    {
     "data": {
      "text/html": [
       "<div>\n",
       "<style scoped>\n",
       "    .dataframe tbody tr th:only-of-type {\n",
       "        vertical-align: middle;\n",
       "    }\n",
       "\n",
       "    .dataframe tbody tr th {\n",
       "        vertical-align: top;\n",
       "    }\n",
       "\n",
       "    .dataframe thead th {\n",
       "        text-align: right;\n",
       "    }\n",
       "</style>\n",
       "<table border=\"1\" class=\"dataframe\">\n",
       "  <thead>\n",
       "    <tr style=\"text-align: right;\">\n",
       "      <th></th>\n",
       "      <th>3</th>\n",
       "      <th>4</th>\n",
       "      <th>5</th>\n",
       "      <th>6</th>\n",
       "      <th>7</th>\n",
       "      <th>8</th>\n",
       "      <th>9</th>\n",
       "      <th>10</th>\n",
       "      <th>11</th>\n",
       "      <th>12</th>\n",
       "      <th>...</th>\n",
       "      <th>191</th>\n",
       "      <th>192</th>\n",
       "      <th>193</th>\n",
       "      <th>194</th>\n",
       "      <th>195</th>\n",
       "      <th>196</th>\n",
       "      <th>197</th>\n",
       "      <th>198</th>\n",
       "      <th>199</th>\n",
       "      <th>200</th>\n",
       "    </tr>\n",
       "  </thead>\n",
       "  <tbody>\n",
       "    <tr>\n",
       "      <th>$E(A(n))$</th>\n",
       "      <td>0.87</td>\n",
       "      <td>1.73</td>\n",
       "      <td>2.51</td>\n",
       "      <td>3.21</td>\n",
       "      <td>3.83</td>\n",
       "      <td>4.40</td>\n",
       "      <td>4.91</td>\n",
       "      <td>5.38</td>\n",
       "      <td>5.81</td>\n",
       "      <td>6.21</td>\n",
       "      <td>...</td>\n",
       "      <td>20.79</td>\n",
       "      <td>20.82</td>\n",
       "      <td>20.85</td>\n",
       "      <td>20.88</td>\n",
       "      <td>20.91</td>\n",
       "      <td>20.94</td>\n",
       "      <td>20.97</td>\n",
       "      <td>21.00</td>\n",
       "      <td>21.03</td>\n",
       "      <td>21.05</td>\n",
       "    </tr>\n",
       "    <tr>\n",
       "      <th>$Mean(A(n))$</th>\n",
       "      <td>0.86</td>\n",
       "      <td>1.73</td>\n",
       "      <td>2.52</td>\n",
       "      <td>3.22</td>\n",
       "      <td>3.84</td>\n",
       "      <td>4.39</td>\n",
       "      <td>4.90</td>\n",
       "      <td>5.39</td>\n",
       "      <td>5.81</td>\n",
       "      <td>6.21</td>\n",
       "      <td>...</td>\n",
       "      <td>20.80</td>\n",
       "      <td>20.82</td>\n",
       "      <td>20.87</td>\n",
       "      <td>20.88</td>\n",
       "      <td>20.92</td>\n",
       "      <td>20.94</td>\n",
       "      <td>20.97</td>\n",
       "      <td>21.01</td>\n",
       "      <td>21.02</td>\n",
       "      <td>21.05</td>\n",
       "    </tr>\n",
       "    <tr>\n",
       "      <th>$std_{pos}(n)$</th>\n",
       "      <td>1.22</td>\n",
       "      <td>1.60</td>\n",
       "      <td>1.83</td>\n",
       "      <td>1.98</td>\n",
       "      <td>2.10</td>\n",
       "      <td>2.15</td>\n",
       "      <td>2.21</td>\n",
       "      <td>2.29</td>\n",
       "      <td>2.33</td>\n",
       "      <td>2.34</td>\n",
       "      <td>...</td>\n",
       "      <td>2.60</td>\n",
       "      <td>2.61</td>\n",
       "      <td>2.62</td>\n",
       "      <td>2.60</td>\n",
       "      <td>2.61</td>\n",
       "      <td>2.62</td>\n",
       "      <td>2.59</td>\n",
       "      <td>2.61</td>\n",
       "      <td>2.61</td>\n",
       "      <td>2.61</td>\n",
       "    </tr>\n",
       "    <tr>\n",
       "      <th>$std_{neg}(n)$</th>\n",
       "      <td>0.56</td>\n",
       "      <td>0.91</td>\n",
       "      <td>1.14</td>\n",
       "      <td>1.32</td>\n",
       "      <td>1.44</td>\n",
       "      <td>1.54</td>\n",
       "      <td>1.61</td>\n",
       "      <td>1.68</td>\n",
       "      <td>1.73</td>\n",
       "      <td>1.77</td>\n",
       "      <td>...</td>\n",
       "      <td>2.21</td>\n",
       "      <td>2.20</td>\n",
       "      <td>2.21</td>\n",
       "      <td>2.20</td>\n",
       "      <td>2.21</td>\n",
       "      <td>2.19</td>\n",
       "      <td>2.20</td>\n",
       "      <td>2.20</td>\n",
       "      <td>2.21</td>\n",
       "      <td>2.20</td>\n",
       "    </tr>\n",
       "    <tr>\n",
       "      <th>$quant_{0.8}(n)$</th>\n",
       "      <td>1.38</td>\n",
       "      <td>2.60</td>\n",
       "      <td>3.59</td>\n",
       "      <td>4.44</td>\n",
       "      <td>5.16</td>\n",
       "      <td>5.80</td>\n",
       "      <td>6.38</td>\n",
       "      <td>6.93</td>\n",
       "      <td>7.39</td>\n",
       "      <td>7.81</td>\n",
       "      <td>...</td>\n",
       "      <td>22.74</td>\n",
       "      <td>22.76</td>\n",
       "      <td>22.81</td>\n",
       "      <td>22.82</td>\n",
       "      <td>22.87</td>\n",
       "      <td>22.89</td>\n",
       "      <td>22.91</td>\n",
       "      <td>22.95</td>\n",
       "      <td>22.98</td>\n",
       "      <td>22.99</td>\n",
       "    </tr>\n",
       "    <tr>\n",
       "      <th>$quant_{0.95}(n)$</th>\n",
       "      <td>2.59</td>\n",
       "      <td>4.13</td>\n",
       "      <td>5.34</td>\n",
       "      <td>6.31</td>\n",
       "      <td>7.14</td>\n",
       "      <td>7.80</td>\n",
       "      <td>8.39</td>\n",
       "      <td>9.01</td>\n",
       "      <td>9.53</td>\n",
       "      <td>9.94</td>\n",
       "      <td>...</td>\n",
       "      <td>25.00</td>\n",
       "      <td>25.05</td>\n",
       "      <td>25.09</td>\n",
       "      <td>25.08</td>\n",
       "      <td>25.14</td>\n",
       "      <td>25.16</td>\n",
       "      <td>25.15</td>\n",
       "      <td>25.19</td>\n",
       "      <td>25.24</td>\n",
       "      <td>25.27</td>\n",
       "    </tr>\n",
       "    <tr>\n",
       "      <th>$quant_{0.99}(n)$</th>\n",
       "      <td>3.96</td>\n",
       "      <td>5.81</td>\n",
       "      <td>7.18</td>\n",
       "      <td>8.25</td>\n",
       "      <td>9.12</td>\n",
       "      <td>9.74</td>\n",
       "      <td>10.43</td>\n",
       "      <td>11.08</td>\n",
       "      <td>11.60</td>\n",
       "      <td>12.06</td>\n",
       "      <td>...</td>\n",
       "      <td>27.11</td>\n",
       "      <td>27.18</td>\n",
       "      <td>27.28</td>\n",
       "      <td>27.21</td>\n",
       "      <td>27.28</td>\n",
       "      <td>27.29</td>\n",
       "      <td>27.26</td>\n",
       "      <td>27.42</td>\n",
       "      <td>27.35</td>\n",
       "      <td>27.51</td>\n",
       "    </tr>\n",
       "    <tr>\n",
       "      <th>$quant_{0.999}(n)$</th>\n",
       "      <td>5.98</td>\n",
       "      <td>8.02</td>\n",
       "      <td>9.52</td>\n",
       "      <td>10.64</td>\n",
       "      <td>11.57</td>\n",
       "      <td>12.46</td>\n",
       "      <td>13.12</td>\n",
       "      <td>13.99</td>\n",
       "      <td>14.24</td>\n",
       "      <td>14.61</td>\n",
       "      <td>...</td>\n",
       "      <td>29.78</td>\n",
       "      <td>29.93</td>\n",
       "      <td>30.04</td>\n",
       "      <td>29.90</td>\n",
       "      <td>30.02</td>\n",
       "      <td>30.26</td>\n",
       "      <td>29.95</td>\n",
       "      <td>30.18</td>\n",
       "      <td>30.12</td>\n",
       "      <td>30.11</td>\n",
       "    </tr>\n",
       "    <tr>\n",
       "      <th>$quant_{0.9999}(n)$</th>\n",
       "      <td>7.71</td>\n",
       "      <td>10.54</td>\n",
       "      <td>11.90</td>\n",
       "      <td>13.19</td>\n",
       "      <td>14.72</td>\n",
       "      <td>15.08</td>\n",
       "      <td>15.78</td>\n",
       "      <td>17.27</td>\n",
       "      <td>16.97</td>\n",
       "      <td>16.96</td>\n",
       "      <td>...</td>\n",
       "      <td>32.99</td>\n",
       "      <td>33.39</td>\n",
       "      <td>32.98</td>\n",
       "      <td>32.50</td>\n",
       "      <td>31.96</td>\n",
       "      <td>33.02</td>\n",
       "      <td>33.59</td>\n",
       "      <td>33.02</td>\n",
       "      <td>32.66</td>\n",
       "      <td>32.68</td>\n",
       "    </tr>\n",
       "  </tbody>\n",
       "</table>\n",
       "<p>9 rows × 198 columns</p>\n",
       "</div>"
      ],
      "text/plain": [
       "                        3      4      5      6      7      8      9     10  \\\n",
       "$E(A(n))$            0.87   1.73   2.51   3.21   3.83   4.40   4.91   5.38   \n",
       "$Mean(A(n))$         0.86   1.73   2.52   3.22   3.84   4.39   4.90   5.39   \n",
       "$std_{pos}(n)$       1.22   1.60   1.83   1.98   2.10   2.15   2.21   2.29   \n",
       "$std_{neg}(n)$       0.56   0.91   1.14   1.32   1.44   1.54   1.61   1.68   \n",
       "$quant_{0.8}(n)$     1.38   2.60   3.59   4.44   5.16   5.80   6.38   6.93   \n",
       "$quant_{0.95}(n)$    2.59   4.13   5.34   6.31   7.14   7.80   8.39   9.01   \n",
       "$quant_{0.99}(n)$    3.96   5.81   7.18   8.25   9.12   9.74  10.43  11.08   \n",
       "$quant_{0.999}(n)$   5.98   8.02   9.52  10.64  11.57  12.46  13.12  13.99   \n",
       "$quant_{0.9999}(n)$  7.71  10.54  11.90  13.19  14.72  15.08  15.78  17.27   \n",
       "\n",
       "                        11     12  ...    191    192    193    194    195  \\\n",
       "$E(A(n))$             5.81   6.21  ...  20.79  20.82  20.85  20.88  20.91   \n",
       "$Mean(A(n))$          5.81   6.21  ...  20.80  20.82  20.87  20.88  20.92   \n",
       "$std_{pos}(n)$        2.33   2.34  ...   2.60   2.61   2.62   2.60   2.61   \n",
       "$std_{neg}(n)$        1.73   1.77  ...   2.21   2.20   2.21   2.20   2.21   \n",
       "$quant_{0.8}(n)$      7.39   7.81  ...  22.74  22.76  22.81  22.82  22.87   \n",
       "$quant_{0.95}(n)$     9.53   9.94  ...  25.00  25.05  25.09  25.08  25.14   \n",
       "$quant_{0.99}(n)$    11.60  12.06  ...  27.11  27.18  27.28  27.21  27.28   \n",
       "$quant_{0.999}(n)$   14.24  14.61  ...  29.78  29.93  30.04  29.90  30.02   \n",
       "$quant_{0.9999}(n)$  16.97  16.96  ...  32.99  33.39  32.98  32.50  31.96   \n",
       "\n",
       "                       196    197    198    199    200  \n",
       "$E(A(n))$            20.94  20.97  21.00  21.03  21.05  \n",
       "$Mean(A(n))$         20.94  20.97  21.01  21.02  21.05  \n",
       "$std_{pos}(n)$        2.62   2.59   2.61   2.61   2.61  \n",
       "$std_{neg}(n)$        2.19   2.20   2.20   2.21   2.20  \n",
       "$quant_{0.8}(n)$     22.89  22.91  22.95  22.98  22.99  \n",
       "$quant_{0.95}(n)$    25.16  25.15  25.19  25.24  25.27  \n",
       "$quant_{0.99}(n)$    27.29  27.26  27.42  27.35  27.51  \n",
       "$quant_{0.999}(n)$   30.26  29.95  30.18  30.12  30.11  \n",
       "$quant_{0.9999}(n)$  33.02  33.59  33.02  32.66  32.68  \n",
       "\n",
       "[9 rows x 198 columns]"
      ]
     },
     "execution_count": 12,
     "metadata": {},
     "output_type": "execute_result"
    }
   ],
   "source": [
    "lookuptable_area  # the SEM is the same as stated in notebook 2"
   ]
  },
  {
   "cell_type": "code",
   "execution_count": 37,
   "id": "f17c361e-e4d4-4a6d-8102-0fc5b8bdc385",
   "metadata": {},
   "outputs": [],
   "source": [
    "lookuptable_area = pd.read_csv(r\"lookup_tables\\lookup_table_area_2d_update.csv\", index_col=0)"
   ]
  },
  {
   "cell_type": "code",
   "execution_count": 38,
   "id": "53845bd2-c072-43fd-a18c-588144717566",
   "metadata": {},
   "outputs": [],
   "source": [
    "cluster_std = 8\n",
    "max_area_1 = lookuptable_area.loc[\"$quant_{0.8}(n)$\"].astype(float).values * cluster_std**2\n",
    "max_area_2 = lookuptable_area.loc[\"$quant_{0.95}(n)$\"].astype(float).values * cluster_std**2\n",
    "max_area_3 = lookuptable_area.loc[\"$quant_{0.99}(n)$\"].astype(float).values * cluster_std**2\n",
    "max_area_4 = lookuptable_area.loc[\"$quant_{0.999}(n)$\"].astype(float).values * cluster_std**2\n",
    "max_area_5 = lookuptable_area.loc[\"$quant_{0.9999}(n)$\"].astype(float).values * cluster_std**2"
   ]
  },
  {
   "cell_type": "code",
   "execution_count": 27,
   "id": "a015406f-d420-4d4e-9520-0121bc0026c4",
   "metadata": {},
   "outputs": [],
   "source": [
    "parent_intensities = [1e-5, 2e-5, 3e-5, 4e-5, 5e-5, 10e-5, 15e-5, 20e-5]\n",
    "limits_ = si.limits(parent_intensities, 15e-5, 5000)\n",
    "sim_param = dict(cluster_mu=9, cluster_std=8, min_samples=3, seed=np.random.default_rng(100))\n",
    "alg_param = dict(eps=25, min_samples=3)\n",
    "n_simulations = 30\n",
    "max_areas = [max_area_1, max_area_2, max_area_3, max_area_4, max_area_5]\n",
    "ch_area_means, ch_area_stds = sv.selection_by_ch_area(n_simulations, parent_intensities, \n",
    "                                                      limits_, sim_param, alg_param, max_areas)\n",
    "np.save(file=r\"npy_files\\ch_area_means.npy\", arr=ch_area_means)\n",
    "np.save(file=r\"npy_files\\ch_area_stds.npy\", arr=ch_area_stds)"
   ]
  },
  {
   "cell_type": "code",
   "execution_count": 39,
   "id": "75891e20-08cf-474c-962d-a233db30f843",
   "metadata": {},
   "outputs": [],
   "source": [
    "ch_area_means = np.load(r\"npy_files\\ch_area_means.npy\")\n",
    "ch_area_stds = np.load(r\"npy_files\\ch_area_stds.npy\")"
   ]
  },
  {
   "cell_type": "code",
   "execution_count": 40,
   "id": "c1c7c753-6715-43ae-a1c5-afdba183e4c9",
   "metadata": {},
   "outputs": [
    {
     "data": {
      "image/png": "[encoded data removed]",
      "text/plain": [
       "<Figure size 432x288 with 1 Axes>"
      ]
     },
     "metadata": {
      "needs_background": "light"
     },
     "output_type": "display_data"
    }
   ],
   "source": [
    "rcParams[\"axes.linewidth\"] = 2\n",
    "fig, ax = plt.subplots(figsize=(6, 4))\n",
    "x = [1e-5, 2e-5, 3e-5, 4e-5, 5e-5, 10e-5, 15e-5, 20e-5]\n",
    "color = [\"blue\", \"magenta\", \"grey\", \"orange\", \"teal\"]\n",
    "patches = {}\n",
    "for i, threshold in enumerate([\"$q_{0.8}$\", \"$q_{0.95}$\", \"$q_{0.99}$\", \"$q_{0.999}$\",\n",
    "                               \"$q_{0.9999}$\"]):\n",
    "    fdr = ch_area_means[:, i, 0]\n",
    "    fdr_yerr = ch_area_stds[:, i, 0]\n",
    "    tpr = ch_area_means[:, i, 1]\n",
    "    tpr_yerr = ch_area_stds[:, i, 1]\n",
    "    ax.errorbar(x, fdr, yerr=fdr_yerr, ls=(0, (5, 5)), c=color[i], marker=\"\", markeredgewidth=2)\n",
    "    ax.errorbar(x, tpr, yerr=tpr_yerr, c=color[i], marker=\"\", markeredgewidth=2)\n",
    "    patches[\"patch{0}\".format(i)] = mpatches.Patch(color=color[i], label=threshold)\n",
    "handles_legend = [mlines.Line2D([], [], label=\"TPR\", c=\"k\", marker=\"\"), \n",
    "                  mlines.Line2D([], [], label=\"FDR\", linestyle=(0, (5, 5)), c=\"k\", marker=\"\")]\n",
    "for patch in patches.values():\n",
    "    handles_legend.append(patch)\n",
    "second_legend = ax.legend(handles=handles_legend, loc=1, fontsize=13, framealpha=0.3)\n",
    "ax.add_artist(second_legend)\n",
    "ax.ticklabel_format(style=\"sci\", axis=\"x\", scilimits=(0,0))\n",
    "ax.set_xlabel(\"Cluster density (\" + r\"$10^{-4}$\" + \")\", fontsize=21)\n",
    "ax.set_ylabel(\"Rate\", fontsize=21)\n",
    "ax.tick_params(labelsize=20, width=2, length=6)\n",
    "ax.xaxis.get_offset_text().set_visible(False)\n",
    "tick_spacing_x = 5e-5\n",
    "ax.xaxis.set_major_locator(ticker.MultipleLocator(tick_spacing_x))\n",
    "tick_spacing_y = 0.2\n",
    "ax.yaxis.set_major_locator(ticker.MultipleLocator(tick_spacing_y))\n",
    "ax.set_ylim(0, 1)\n",
    "second_axis(ax, \"top\", tick_spacing_x)\n",
    "second_axis(ax, \"right\", tick_spacing_y)\n",
    "ax.set_xlim(0, 20e-5)\n",
    "fig.savefig(r\"plt_figures\\ch_area.svg\")"
   ]
  },
  {
   "cell_type": "markdown",
   "id": "1f5b20d9-ee22-497c-9322-b496bc3550f0",
   "metadata": {},
   "source": [
    "#### Perimeter"
   ]
  },
  {
   "cell_type": "code",
   "execution_count": 18,
   "id": "a85f1f69-dc02-41d8-9687-c61fa6d6f77a",
   "metadata": {},
   "outputs": [],
   "source": [
    "lookuptable_peri = sv.lookuptable_convexhull(mode=\"peri\", seed=100, n_max_points=200, \n",
    "                                             n_simulations=100000, sigma=1, \n",
    "                                             quantiles=[0.8, 0.95, 0.99, 0.999, 0.9999],\n",
    "                                             save_to=r\"lookup_tables\\lookup_table_peri_2d_update.csv\")"
   ]
  },
  {
   "cell_type": "code",
   "execution_count": 14,
   "id": "0c787005-bedb-472d-9c11-7e084c068066",
   "metadata": {},
   "outputs": [
    {
     "data": {
      "text/html": [
       "<div>\n",
       "<style scoped>\n",
       "    .dataframe tbody tr th:only-of-type {\n",
       "        vertical-align: middle;\n",
       "    }\n",
       "\n",
       "    .dataframe tbody tr th {\n",
       "        vertical-align: top;\n",
       "    }\n",
       "\n",
       "    .dataframe thead th {\n",
       "        text-align: right;\n",
       "    }\n",
       "</style>\n",
       "<table border=\"1\" class=\"dataframe\">\n",
       "  <thead>\n",
       "    <tr style=\"text-align: right;\">\n",
       "      <th></th>\n",
       "      <th>3</th>\n",
       "      <th>4</th>\n",
       "      <th>5</th>\n",
       "      <th>6</th>\n",
       "      <th>7</th>\n",
       "      <th>8</th>\n",
       "      <th>9</th>\n",
       "      <th>10</th>\n",
       "      <th>11</th>\n",
       "      <th>12</th>\n",
       "      <th>...</th>\n",
       "      <th>191</th>\n",
       "      <th>192</th>\n",
       "      <th>193</th>\n",
       "      <th>194</th>\n",
       "      <th>195</th>\n",
       "      <th>196</th>\n",
       "      <th>197</th>\n",
       "      <th>198</th>\n",
       "      <th>199</th>\n",
       "      <th>200</th>\n",
       "    </tr>\n",
       "  </thead>\n",
       "  <tbody>\n",
       "    <tr>\n",
       "      <th>$E(P(n))$</th>\n",
       "      <td>5.32</td>\n",
       "      <td>6.47</td>\n",
       "      <td>7.31</td>\n",
       "      <td>7.96</td>\n",
       "      <td>8.50</td>\n",
       "      <td>8.94</td>\n",
       "      <td>9.33</td>\n",
       "      <td>9.67</td>\n",
       "      <td>9.97</td>\n",
       "      <td>10.24</td>\n",
       "      <td>...</td>\n",
       "      <td>17.16</td>\n",
       "      <td>17.17</td>\n",
       "      <td>17.18</td>\n",
       "      <td>17.19</td>\n",
       "      <td>17.20</td>\n",
       "      <td>17.21</td>\n",
       "      <td>17.22</td>\n",
       "      <td>17.23</td>\n",
       "      <td>17.24</td>\n",
       "      <td>17.25</td>\n",
       "    </tr>\n",
       "    <tr>\n",
       "      <th>$Mean(P(n))$</th>\n",
       "      <td>5.31</td>\n",
       "      <td>6.48</td>\n",
       "      <td>7.31</td>\n",
       "      <td>7.97</td>\n",
       "      <td>8.50</td>\n",
       "      <td>8.94</td>\n",
       "      <td>9.33</td>\n",
       "      <td>9.67</td>\n",
       "      <td>9.97</td>\n",
       "      <td>10.23</td>\n",
       "      <td>...</td>\n",
       "      <td>17.16</td>\n",
       "      <td>17.17</td>\n",
       "      <td>17.18</td>\n",
       "      <td>17.19</td>\n",
       "      <td>17.21</td>\n",
       "      <td>17.21</td>\n",
       "      <td>17.22</td>\n",
       "      <td>17.24</td>\n",
       "      <td>17.24</td>\n",
       "      <td>17.25</td>\n",
       "    </tr>\n",
       "    <tr>\n",
       "      <th>$std_{pos}(n)$</th>\n",
       "      <td>2.11</td>\n",
       "      <td>2.06</td>\n",
       "      <td>2.01</td>\n",
       "      <td>1.95</td>\n",
       "      <td>1.91</td>\n",
       "      <td>1.85</td>\n",
       "      <td>1.82</td>\n",
       "      <td>1.81</td>\n",
       "      <td>1.78</td>\n",
       "      <td>1.74</td>\n",
       "      <td>...</td>\n",
       "      <td>1.16</td>\n",
       "      <td>1.17</td>\n",
       "      <td>1.16</td>\n",
       "      <td>1.16</td>\n",
       "      <td>1.16</td>\n",
       "      <td>1.16</td>\n",
       "      <td>1.16</td>\n",
       "      <td>1.16</td>\n",
       "      <td>1.16</td>\n",
       "      <td>1.16</td>\n",
       "    </tr>\n",
       "    <tr>\n",
       "      <th>$std_{neg}(n)$</th>\n",
       "      <td>1.77</td>\n",
       "      <td>1.79</td>\n",
       "      <td>1.77</td>\n",
       "      <td>1.76</td>\n",
       "      <td>1.72</td>\n",
       "      <td>1.69</td>\n",
       "      <td>1.65</td>\n",
       "      <td>1.63</td>\n",
       "      <td>1.60</td>\n",
       "      <td>1.58</td>\n",
       "      <td>...</td>\n",
       "      <td>1.03</td>\n",
       "      <td>1.03</td>\n",
       "      <td>1.03</td>\n",
       "      <td>1.02</td>\n",
       "      <td>1.02</td>\n",
       "      <td>1.02</td>\n",
       "      <td>1.02</td>\n",
       "      <td>1.02</td>\n",
       "      <td>1.02</td>\n",
       "      <td>1.02</td>\n",
       "    </tr>\n",
       "    <tr>\n",
       "      <th>$quant_{0.8}(n)$</th>\n",
       "      <td>6.93</td>\n",
       "      <td>8.07</td>\n",
       "      <td>8.87</td>\n",
       "      <td>9.51</td>\n",
       "      <td>10.00</td>\n",
       "      <td>10.42</td>\n",
       "      <td>10.76</td>\n",
       "      <td>11.09</td>\n",
       "      <td>11.37</td>\n",
       "      <td>11.61</td>\n",
       "      <td>...</td>\n",
       "      <td>18.06</td>\n",
       "      <td>18.06</td>\n",
       "      <td>18.08</td>\n",
       "      <td>18.08</td>\n",
       "      <td>18.10</td>\n",
       "      <td>18.11</td>\n",
       "      <td>18.11</td>\n",
       "      <td>18.13</td>\n",
       "      <td>18.14</td>\n",
       "      <td>18.14</td>\n",
       "    </tr>\n",
       "    <tr>\n",
       "      <th>$quant_{0.95}(n)$</th>\n",
       "      <td>8.73</td>\n",
       "      <td>9.84</td>\n",
       "      <td>10.58</td>\n",
       "      <td>11.17</td>\n",
       "      <td>11.63</td>\n",
       "      <td>11.96</td>\n",
       "      <td>12.29</td>\n",
       "      <td>12.61</td>\n",
       "      <td>12.88</td>\n",
       "      <td>13.08</td>\n",
       "      <td>...</td>\n",
       "      <td>19.04</td>\n",
       "      <td>19.06</td>\n",
       "      <td>19.09</td>\n",
       "      <td>19.08</td>\n",
       "      <td>19.10</td>\n",
       "      <td>19.10</td>\n",
       "      <td>19.10</td>\n",
       "      <td>19.12</td>\n",
       "      <td>19.13</td>\n",
       "      <td>19.14</td>\n",
       "    </tr>\n",
       "    <tr>\n",
       "      <th>$quant_{0.99}(n)$</th>\n",
       "      <td>10.31</td>\n",
       "      <td>11.40</td>\n",
       "      <td>12.14</td>\n",
       "      <td>12.62</td>\n",
       "      <td>13.08</td>\n",
       "      <td>13.36</td>\n",
       "      <td>13.67</td>\n",
       "      <td>13.97</td>\n",
       "      <td>14.23</td>\n",
       "      <td>14.38</td>\n",
       "      <td>...</td>\n",
       "      <td>19.97</td>\n",
       "      <td>19.99</td>\n",
       "      <td>19.98</td>\n",
       "      <td>20.00</td>\n",
       "      <td>20.00</td>\n",
       "      <td>20.03</td>\n",
       "      <td>20.00</td>\n",
       "      <td>20.05</td>\n",
       "      <td>20.04</td>\n",
       "      <td>20.08</td>\n",
       "    </tr>\n",
       "    <tr>\n",
       "      <th>$quant_{0.999}(n)$</th>\n",
       "      <td>12.23</td>\n",
       "      <td>13.14</td>\n",
       "      <td>13.81</td>\n",
       "      <td>14.22</td>\n",
       "      <td>14.69</td>\n",
       "      <td>14.95</td>\n",
       "      <td>15.26</td>\n",
       "      <td>15.76</td>\n",
       "      <td>15.75</td>\n",
       "      <td>15.83</td>\n",
       "      <td>...</td>\n",
       "      <td>21.08</td>\n",
       "      <td>21.13</td>\n",
       "      <td>21.11</td>\n",
       "      <td>21.07</td>\n",
       "      <td>21.16</td>\n",
       "      <td>21.14</td>\n",
       "      <td>21.10</td>\n",
       "      <td>21.19</td>\n",
       "      <td>21.21</td>\n",
       "      <td>21.24</td>\n",
       "    </tr>\n",
       "    <tr>\n",
       "      <th>$quant_{0.9999}(n)$</th>\n",
       "      <td>13.49</td>\n",
       "      <td>14.74</td>\n",
       "      <td>15.35</td>\n",
       "      <td>15.49</td>\n",
       "      <td>16.16</td>\n",
       "      <td>16.41</td>\n",
       "      <td>16.77</td>\n",
       "      <td>17.28</td>\n",
       "      <td>17.18</td>\n",
       "      <td>16.97</td>\n",
       "      <td>...</td>\n",
       "      <td>22.19</td>\n",
       "      <td>22.22</td>\n",
       "      <td>22.28</td>\n",
       "      <td>22.25</td>\n",
       "      <td>22.28</td>\n",
       "      <td>22.30</td>\n",
       "      <td>22.27</td>\n",
       "      <td>22.35</td>\n",
       "      <td>22.04</td>\n",
       "      <td>22.22</td>\n",
       "    </tr>\n",
       "  </tbody>\n",
       "</table>\n",
       "<p>9 rows × 198 columns</p>\n",
       "</div>"
      ],
      "text/plain": [
       "                         3      4      5      6      7      8      9     10  \\\n",
       "$E(P(n))$             5.32   6.47   7.31   7.96   8.50   8.94   9.33   9.67   \n",
       "$Mean(P(n))$          5.31   6.48   7.31   7.97   8.50   8.94   9.33   9.67   \n",
       "$std_{pos}(n)$        2.11   2.06   2.01   1.95   1.91   1.85   1.82   1.81   \n",
       "$std_{neg}(n)$        1.77   1.79   1.77   1.76   1.72   1.69   1.65   1.63   \n",
       "$quant_{0.8}(n)$      6.93   8.07   8.87   9.51  10.00  10.42  10.76  11.09   \n",
       "$quant_{0.95}(n)$     8.73   9.84  10.58  11.17  11.63  11.96  12.29  12.61   \n",
       "$quant_{0.99}(n)$    10.31  11.40  12.14  12.62  13.08  13.36  13.67  13.97   \n",
       "$quant_{0.999}(n)$   12.23  13.14  13.81  14.22  14.69  14.95  15.26  15.76   \n",
       "$quant_{0.9999}(n)$  13.49  14.74  15.35  15.49  16.16  16.41  16.77  17.28   \n",
       "\n",
       "                        11     12  ...    191    192    193    194    195  \\\n",
       "$E(P(n))$             9.97  10.24  ...  17.16  17.17  17.18  17.19  17.20   \n",
       "$Mean(P(n))$          9.97  10.23  ...  17.16  17.17  17.18  17.19  17.21   \n",
       "$std_{pos}(n)$        1.78   1.74  ...   1.16   1.17   1.16   1.16   1.16   \n",
       "$std_{neg}(n)$        1.60   1.58  ...   1.03   1.03   1.03   1.02   1.02   \n",
       "$quant_{0.8}(n)$     11.37  11.61  ...  18.06  18.06  18.08  18.08  18.10   \n",
       "$quant_{0.95}(n)$    12.88  13.08  ...  19.04  19.06  19.09  19.08  19.10   \n",
       "$quant_{0.99}(n)$    14.23  14.38  ...  19.97  19.99  19.98  20.00  20.00   \n",
       "$quant_{0.999}(n)$   15.75  15.83  ...  21.08  21.13  21.11  21.07  21.16   \n",
       "$quant_{0.9999}(n)$  17.18  16.97  ...  22.19  22.22  22.28  22.25  22.28   \n",
       "\n",
       "                       196    197    198    199    200  \n",
       "$E(P(n))$            17.21  17.22  17.23  17.24  17.25  \n",
       "$Mean(P(n))$         17.21  17.22  17.24  17.24  17.25  \n",
       "$std_{pos}(n)$        1.16   1.16   1.16   1.16   1.16  \n",
       "$std_{neg}(n)$        1.02   1.02   1.02   1.02   1.02  \n",
       "$quant_{0.8}(n)$     18.11  18.11  18.13  18.14  18.14  \n",
       "$quant_{0.95}(n)$    19.10  19.10  19.12  19.13  19.14  \n",
       "$quant_{0.99}(n)$    20.03  20.00  20.05  20.04  20.08  \n",
       "$quant_{0.999}(n)$   21.14  21.10  21.19  21.21  21.24  \n",
       "$quant_{0.9999}(n)$  22.30  22.27  22.35  22.04  22.22  \n",
       "\n",
       "[9 rows x 198 columns]"
      ]
     },
     "execution_count": 14,
     "metadata": {},
     "output_type": "execute_result"
    }
   ],
   "source": [
    "lookuptable_peri  # the SEM is the same as stated in notebook 2"
   ]
  },
  {
   "cell_type": "code",
   "execution_count": 41,
   "id": "4c787153-bd12-426b-878b-84e89d149040",
   "metadata": {},
   "outputs": [],
   "source": [
    "lookuptable_peri = pd.read_csv(r\"lookup_tables\\lookup_table_peri_2d_update.csv\", index_col=0)"
   ]
  },
  {
   "cell_type": "code",
   "execution_count": 42,
   "id": "4afe3db1-d637-4aae-b9e4-546c4f7f067a",
   "metadata": {},
   "outputs": [],
   "source": [
    "cluster_std = 8\n",
    "max_peri_1 = lookuptable_peri.loc[\"$quant_{0.8}(n)$\"].astype(float).values * cluster_std\n",
    "max_peri_2 = lookuptable_peri.loc[\"$quant_{0.95}(n)$\"].astype(float).values * cluster_std\n",
    "max_peri_3 = lookuptable_peri.loc[\"$quant_{0.99}(n)$\"].astype(float).values * cluster_std\n",
    "max_peri_4 = lookuptable_peri.loc[\"$quant_{0.999}(n)$\"].astype(float).values * cluster_std\n",
    "max_peri_5 = lookuptable_peri.loc[\"$quant_{0.9999}(n)$\"].astype(float).values * cluster_std"
   ]
  },
  {
   "cell_type": "code",
   "execution_count": 5,
   "id": "e3856aa3-cf65-48b0-adbe-002f8d2140b1",
   "metadata": {},
   "outputs": [],
   "source": [
    "parent_intensities = [1e-5, 2e-5, 3e-5, 4e-5, 5e-5, 10e-5, 15e-5, 20e-5]\n",
    "limits_ = si.limits(parent_intensities, 15e-5, 5000)\n",
    "sim_param = dict(cluster_mu=9, cluster_std=8, min_samples=3, seed=np.random.default_rng(100))\n",
    "alg_param = dict(eps=25, min_samples=3)\n",
    "n_simulations = 30\n",
    "max_peris = [max_peri_1, max_peri_2, max_peri_3, max_peri_4, max_peri_5]\n",
    "ch_peri_means, ch_peri_stds = sv.selection_by_ch_peri(n_simulations, parent_intensities, \n",
    "                                                      limits_, sim_param, alg_param, max_peris)\n",
    "np.save(file=r\"npy_files\\ch_peri_means.npy\", arr=ch_peri_means)\n",
    "np.save(file=r\"npy_files\\ch_peri_stds.npy\", arr=ch_peri_stds)"
   ]
  },
  {
   "cell_type": "code",
   "execution_count": 43,
   "id": "89fe5e59-5344-4481-b5f3-f3d1f05b0e6f",
   "metadata": {},
   "outputs": [],
   "source": [
    "ch_peri_means = np.load(r\"npy_files\\ch_peri_means.npy\")\n",
    "ch_peri_stds = np.load(r\"npy_files\\ch_peri_stds.npy\")"
   ]
  },
  {
   "cell_type": "code",
   "execution_count": 44,
   "id": "7d0f1cf6-3b0f-4ca8-8285-97096c2474a0",
   "metadata": {},
   "outputs": [
    {
     "data": {
      "image/png": "[encoded data removed]",
      "text/plain": [
       "<Figure size 432x288 with 1 Axes>"
      ]
     },
     "metadata": {
      "needs_background": "light"
     },
     "output_type": "display_data"
    }
   ],
   "source": [
    "rcParams[\"axes.linewidth\"] = 2\n",
    "fig, ax = plt.subplots(figsize=(6, 4))\n",
    "x = [1e-5, 2e-5, 3e-5, 4e-5, 5e-5, 10e-5, 15e-5, 20e-5]\n",
    "color = [\"blue\", \"magenta\", \"grey\", \"orange\", \"teal\"]\n",
    "patches = {}\n",
    "for i, threshold in enumerate([\"$q_{0.8}$\", \"$q_{0.95}$\", \"$q_{0.99}$\", \"$q_{0.999}$\",\n",
    "                               \"$q_{0.9999}$\"]):\n",
    "    fdr = ch_peri_means[:, i, 0]\n",
    "    fdr_yerr = ch_peri_stds[:, i, 0]\n",
    "    tpr = ch_peri_means[:, i, 1]\n",
    "    tpr_yerr = ch_peri_stds[:, i, 1]\n",
    "    ax.errorbar(x, fdr, yerr=fdr_yerr, ls=(0, (5, 5)), c=color[i], marker=\"\", markeredgewidth=2)\n",
    "    ax.errorbar(x, tpr, yerr=tpr_yerr, c=color[i], marker=\"\", markeredgewidth=2)\n",
    "    patches[\"patch{0}\".format(i)] = mpatches.Patch(color=color[i], label=threshold)\n",
    "handles_legend = [mlines.Line2D([], [], label=\"TPR\", c=\"k\", marker=\"\"), \n",
    "                  mlines.Line2D([], [], label=\"FDR\", linestyle=(0, (5, 5)), c=\"k\", marker=\"\")]\n",
    "for patch in patches.values():\n",
    "    handles_legend.append(patch)\n",
    "second_legend = ax.legend(handles=handles_legend, loc=1, fontsize=13, framealpha=0.3)\n",
    "ax.add_artist(second_legend)\n",
    "ax.ticklabel_format(style=\"sci\", axis=\"x\", scilimits=(0,0))\n",
    "ax.set_xlabel(\"Cluster density (\" + r\"$10^{-4}$\" + \")\", fontsize=21)\n",
    "ax.set_ylabel(\"Rate\", fontsize=21)\n",
    "ax.tick_params(labelsize=20, width=2, length=6)\n",
    "ax.xaxis.get_offset_text().set_visible(False)\n",
    "tick_spacing_x = 5e-5\n",
    "ax.xaxis.set_major_locator(ticker.MultipleLocator(tick_spacing_x))\n",
    "tick_spacing_y = 0.2\n",
    "ax.yaxis.set_major_locator(ticker.MultipleLocator(tick_spacing_y))\n",
    "ax.set_ylim(0, 1)\n",
    "second_axis(ax, \"top\", tick_spacing_x)\n",
    "second_axis(ax, \"right\", tick_spacing_y)\n",
    "ax.set_xlim(0, 20e-5)\n",
    "fig.savefig(r\"plt_figures\\ch_peri.svg\")"
   ]
  },
  {
   "cell_type": "markdown",
   "id": "f16e054a-5b76-4bca-a276-6baf1bfd64a9",
   "metadata": {},
   "source": [
    "### Representation in pie chart"
   ]
  },
  {
   "cell_type": "markdown",
   "id": "e48def2c-e3ac-400b-a776-dbb4b18db0e8",
   "metadata": {},
   "source": [
    "#### Area"
   ]
  },
  {
   "cell_type": "code",
   "execution_count": 45,
   "id": "59c395bf-7126-4be8-9ebf-7cd8cdd5eadc",
   "metadata": {},
   "outputs": [
    {
     "name": "stdout",
     "output_type": "stream",
     "text": [
      "FP - 0.05, TP - 0.18, FN - 0.04, TN - 0.73\n"
     ]
    }
   ],
   "source": [
    "sca_means = pd.read_csv(\"csv_files\\chc_merging_means.csv\", index_col=[0, 1])\n",
    "densities = sca_means.index.levels[0]\n",
    "density = densities[5]\n",
    "\n",
    "ch_area_means = np.load(r\"npy_files\\ch_area_means.npy\")\n",
    "\n",
    "condition_positive = merged = sca_means.loc[(density, slice(None)), \n",
    "                                            \"Algorithm merged clusters\"].values[0]\n",
    "condition_negative = 1 - condition_positive\n",
    "\n",
    "TPR = ch_area_means[5, 1, 1]\n",
    "TP = TPR * condition_positive\n",
    "FN = condition_positive - TP\n",
    "FDR = ch_area_means[5, 1, 0]\n",
    "FP = FDR * TP / (1-FDR)\n",
    "TN = condition_negative - FP\n",
    "\n",
    "print(f\"FP - {FP:.2f}, TP - {TP:.2f}, FN - {FN:.2f}, TN - {TN:.2f}\")"
   ]
  },
  {
   "cell_type": "code",
   "execution_count": 46,
   "id": "492fafdc-a60a-42ad-8d17-3b8633537bed",
   "metadata": {},
   "outputs": [
    {
     "data": {
      "image/png": "[encoded data removed]",
      "text/plain": [
       "<Figure size 360x360 with 1 Axes>"
      ]
     },
     "metadata": {},
     "output_type": "display_data"
    }
   ],
   "source": [
    "sizes = np.array([FP*100, TN*100, FN*100, TP*100])\n",
    "labels = [\"FP\", \"TN\", \"FN\", \"TP\"]\n",
    "colors = [\"lightgrey\", \"lightgrey\", \"grey\", \"grey\"]\n",
    "hatches = [\"//\", \"\", \"\", \"//\"]\n",
    "text_props = dict(size=21, va=\"center\", ha=\"center\", bbox=dict(boxstyle=\"square, pad=0.2\"))\n",
    "rounded_texts = [\"Correct\", None, \"Merged\", None]\n",
    "wedgealignments = [30, None, 15, None]\n",
    "startangle = 90\n",
    "stretch = 0.6\n",
    "rt_size = 21\n",
    "rt_h_space = 7\n",
    "rt_v_space = 1.02\n",
    "radius = 2\n",
    "labeldistance = 0.7\n",
    "\n",
    "fig, ax = pie_plot(sizes, labels, colors, labeldistance, radius, text_props, hatches, rounded_texts,\n",
    "                   rt_size, rt_h_space, rt_v_space, wedgealignments, stretch, startangle)\n",
    "fig.savefig(r\"plt_figures\\ch_area_pie_plot.svg\")"
   ]
  },
  {
   "cell_type": "markdown",
   "id": "17859ae4-87f1-4077-9763-872ec201f837",
   "metadata": {
    "tags": []
   },
   "source": [
    "#### Perimeter"
   ]
  },
  {
   "cell_type": "code",
   "execution_count": 47,
   "id": "46680c6d-f0ba-4ec7-89fa-0bbd083abe8a",
   "metadata": {},
   "outputs": [
    {
     "name": "stdout",
     "output_type": "stream",
     "text": [
      "FP - 0.05, TP - 0.19, FN - 0.03, TN - 0.72\n"
     ]
    }
   ],
   "source": [
    "sca_means = pd.read_csv(\"csv_files\\chc_merging_means.csv\", index_col=[0, 1])\n",
    "densities = sca_means.index.levels[0]\n",
    "density = densities[5]\n",
    "\n",
    "ch_peri_means = np.load(r\"npy_files\\ch_peri_means.npy\")\n",
    "\n",
    "condition_positive = merged = sca_means.loc[(density, slice(None)), \n",
    "                                            \"Algorithm merged clusters\"].values[0]\n",
    "condition_negative = 1 - condition_positive\n",
    "\n",
    "TPR = ch_peri_means[5, 1, 1]\n",
    "TP = TPR * condition_positive\n",
    "FN = condition_positive - TP\n",
    "FDR = ch_peri_means[5, 1, 0]\n",
    "FP = FDR * TP / (1-FDR)\n",
    "TN = condition_negative - FP\n",
    "\n",
    "print(f\"FP - {FP:.2f}, TP - {TP:.2f}, FN - {FN:.2f}, TN - {TN:.2f}\")"
   ]
  },
  {
   "cell_type": "code",
   "execution_count": 48,
   "id": "1aea9179-8c80-4271-8d4a-40389ea25f68",
   "metadata": {},
   "outputs": [
    {
     "data": {
      "image/png": "[encoded data removed]",
      "text/plain": [
       "<Figure size 360x360 with 1 Axes>"
      ]
     },
     "metadata": {},
     "output_type": "display_data"
    }
   ],
   "source": [
    "sizes = np.array([FP*100, TN*100, FN*100, TP*100])\n",
    "labels = [\"FP\", \"TN\", \"FN\", \"TP\"]\n",
    "colors = [\"lightgrey\", \"lightgrey\", \"grey\", \"grey\"]\n",
    "hatches = [\"//\", \"\", \"\", \"//\"]\n",
    "text_props = dict(size=21, va=\"center\", ha=\"center\", bbox=dict(boxstyle=\"square, pad=0.2\"))\n",
    "rounded_texts = [\"Correct\", None, \"Merged\", None]\n",
    "wedgealignments = [30, None, 15, None]\n",
    "startangle = 90\n",
    "stretch = 0.6\n",
    "rt_size = 21\n",
    "rt_h_space = 7\n",
    "rt_v_space = 1.02\n",
    "radius = 2\n",
    "labeldistance = 0.7\n",
    "\n",
    "fig, ax = pie_plot(sizes, labels, colors, labeldistance, radius, text_props, hatches, rounded_texts,\n",
    "                   rt_size, rt_h_space, rt_v_space, wedgealignments, stretch, startangle)\n",
    "fig.savefig(r\"plt_figures\\ch_peri_pie_plot.svg\")"
   ]
  }
 ],
 "metadata": {
  "kernelspec": {
   "display_name": "Python 3 (ipykernel)",
   "language": "python",
   "name": "python3"
  },
  "language_info": {
   "codemirror_mode": {
    "name": "ipython",
    "version": 3
   },
   "file_extension": ".py",
   "mimetype": "text/x-python",
   "name": "python",
   "nbconvert_exporter": "python",
   "pygments_lexer": "ipython3",
   "version": "3.8.10"
  }
 },
 "nbformat": 4,
 "nbformat_minor": 5
}
