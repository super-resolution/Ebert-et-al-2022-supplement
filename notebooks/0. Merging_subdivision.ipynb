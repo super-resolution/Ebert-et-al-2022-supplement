{
 "cells": [
  {
   "cell_type": "markdown",
   "id": "49d4c00e-0384-45ed-8fd3-55812c4a80d0",
   "metadata": {},
   "source": [
    "# Convex hull as diagnostic tool in single-molecule localization microscopy\n",
    "# Examples of merged and subdivided clusters\n",
    "Demonstration of individual ground truth clusters being merged together (Merging) and a ground truth cluster being subdivided into several clusters (Subdivision) by a clustering algorithm."
   ]
  },
  {
   "cell_type": "code",
   "execution_count": 1,
   "id": "196974cd-a7a5-45bf-933e-644bdce0a7cf",
   "metadata": {},
   "outputs": [],
   "source": [
    "import numpy as np\n",
    "from sklearn.cluster import DBSCAN\n",
    "from scipy.spatial import ConvexHull\n",
    "\n",
    "from matplotlib import rcParams\n",
    "import matplotlib.pyplot as plt\n",
    "import matplotlib.ticker as ticker\n",
    "\n",
    "import src.simulations as si\n",
    "from src.matplotlib_custom import second_axis"
   ]
  },
  {
   "cell_type": "code",
   "execution_count": 2,
   "id": "db78482c-c561-47f2-a50d-0803901c5d12",
   "metadata": {},
   "outputs": [],
   "source": [
    "def cluster_properties(samples, labels):\n",
    "    unique_labels = np.unique(labels)\n",
    "    unique_labels = np.delete(unique_labels, np.where(unique_labels == -1))\n",
    "    vertices_collect = []\n",
    "    coordinates = []\n",
    "    for i in unique_labels:\n",
    "        indices_cluster = np.where(labels == i)\n",
    "        samples_cluster = samples[indices_cluster]\n",
    "        hull = ConvexHull(samples_cluster)\n",
    "        vertices = hull.vertices\n",
    "        vertices_collect.append(samples_cluster[vertices])\n",
    "        coordinate = np.mean(samples_cluster, axis=0)\n",
    "        coordinates.append(coordinate)\n",
    "    coordinates = np.array(coordinates)\n",
    "    \n",
    "    return coordinates, vertices_collect"
   ]
  },
  {
   "cell_type": "markdown",
   "id": "bfee4974-c7ff-41bd-a2a0-b12024749f30",
   "metadata": {},
   "source": [
    "## Merging"
   ]
  },
  {
   "cell_type": "code",
   "execution_count": 3,
   "id": "b18aa211-d1d5-4e86-bdad-7bef4873fa8a",
   "metadata": {},
   "outputs": [],
   "source": [
    "parent_intensity = 1e-5\n",
    "sim_param = dict(cluster_mu=9, cluster_std=8, lower_limit=-5000, upper_limit=5000, min_samples=3, \n",
    "                 seed=np.random.default_rng(100))\n",
    "alg_param = dict(eps=25, min_samples=3)\n",
    "samples, labels, _ = si.sim_dstorm(parent_intensity=parent_intensity, **sim_param)\n",
    "clust_labels = DBSCAN(**alg_param).fit_predict(samples)"
   ]
  },
  {
   "cell_type": "code",
   "execution_count": 4,
   "id": "ba0815a8-c9dd-4468-a6cf-e54740630068",
   "metadata": {},
   "outputs": [],
   "source": [
    "indices = np.where((samples[:, 0] > -500) & \n",
    "                   (samples[:, 1] > 1100) &\n",
    "                   (samples[:, 0] < -400) &\n",
    "                   (samples[:, 1] < 1200))\n",
    "samples_filtered = samples[indices]\n",
    "labels_filtered = labels[indices]\n",
    "clust_labels_filtered = clust_labels[indices]"
   ]
  },
  {
   "cell_type": "markdown",
   "id": "32cdcc98-b012-4cc2-b9f1-135d98af0201",
   "metadata": {},
   "source": [
    "### Visualize ground truth"
   ]
  },
  {
   "cell_type": "code",
   "execution_count": 5,
   "id": "4810c91a-42f1-4820-9ea9-a35e82a9f1a7",
   "metadata": {},
   "outputs": [],
   "source": [
    "coordinates_sim, vertices_collect_sim = cluster_properties(samples_filtered, labels_filtered)"
   ]
  },
  {
   "cell_type": "code",
   "execution_count": 7,
   "id": "9cb0d005-c93b-4fe8-b64f-22d30049cb59",
   "metadata": {},
   "outputs": [
    {
     "data": {
      "image/png": "[encoded data removed]",
      "text/plain": [
       "<Figure size 216x216 with 1 Axes>"
      ]
     },
     "metadata": {
      "needs_background": "light"
     },
     "output_type": "display_data"
    }
   ],
   "source": [
    "rcParams[\"axes.linewidth\"] = 2\n",
    "fig, ax = plt.subplots(figsize=(3, 3))\n",
    "ax.scatter(samples_filtered[:, 0], samples_filtered[:, 1], s=3, color=\"blue\")\n",
    "ax.scatter(coordinates_sim[:, 0], coordinates_sim[:, 1], color=\"orange\")\n",
    "ax.set_xlim(-500, -400)\n",
    "ax.set_ylim(1100, 1200)\n",
    "tick_spacing_x = 50\n",
    "x_ticker = ticker.MultipleLocator(tick_spacing_x)\n",
    "ax.xaxis.set_major_locator(x_ticker)\n",
    "tick_spacing_y = 50\n",
    "y_ticker = ticker.MultipleLocator(tick_spacing_y)\n",
    "ax.yaxis.set_major_locator(y_ticker)\n",
    "second_axis(ax, \"top\", tick_spacing_x)\n",
    "second_axis(ax, \"right\", tick_spacing_y)\n",
    "ax.tick_params(labelsize=20, width=2, length=6)\n",
    "ax.set_ylabel(\"y-axis\", fontsize=21)\n",
    "ax.set_xlabel(\"x-axis\", fontsize=21)\n",
    "x_ticks = x_ticker.tick_values(-499, -401)\n",
    "ax.set_xticks(x_ticks)\n",
    "x_labels = [item.get_text() for item in ax.get_xticklabels()]\n",
    "for i in range(len(x_ticks)):\n",
    "    x_labels[i] = str(0 + 50*i)\n",
    "ax.set_xticklabels(x_labels)\n",
    "y_ticks = y_ticker.tick_values(1101, 1199)\n",
    "ax.set_yticks(y_ticks)\n",
    "y_labels = [item.get_text() for item in ax.get_yticklabels()]\n",
    "for i in range(len(y_ticks)):\n",
    "    y_labels[i] = str(0 + 50*i)\n",
    "ax.set_yticklabels(y_labels)\n",
    "for vertex in vertices_collect_sim:\n",
    "    ax.plot(vertex[:, 0], vertex[:, 1], \"r\")\n",
    "    ax.plot([vertex[-1, 0], vertex[0, 0]], [vertex[-1, 1], vertex[0, 1]], \"r\")\n",
    "fig.savefig(r\"plt_figures\\merged_clusters_scatter_ground_truth.svg\")"
   ]
  },
  {
   "cell_type": "markdown",
   "id": "b310188f-1036-4534-9afc-3df70b73aeab",
   "metadata": {},
   "source": [
    "### Visualize DBSCAN result"
   ]
  },
  {
   "cell_type": "code",
   "execution_count": 8,
   "id": "27806d4e-c47b-4ee5-9690-ef94f974d0af",
   "metadata": {},
   "outputs": [],
   "source": [
    "coordinates_alg, vertices_collect_alg = cluster_properties(samples_filtered, clust_labels_filtered)"
   ]
  },
  {
   "cell_type": "code",
   "execution_count": 9,
   "id": "4f4bac08-3da9-4db6-aa29-f6a5f1c60d37",
   "metadata": {},
   "outputs": [
    {
     "data": {
      "image/png": "[encoded data removed]",
      "text/plain": [
       "<Figure size 216x216 with 1 Axes>"
      ]
     },
     "metadata": {
      "needs_background": "light"
     },
     "output_type": "display_data"
    }
   ],
   "source": [
    "rcParams[\"axes.linewidth\"] = 2\n",
    "fig, ax = plt.subplots(figsize=(3, 3))\n",
    "ax.scatter(samples[:, 0], samples[:, 1], s=3, color=\"blue\")\n",
    "ax.scatter(coordinates_alg[:, 0], coordinates_alg[:, 1], color=\"orange\")\n",
    "ax.set_xlim(-500, -400)\n",
    "ax.set_ylim(1100, 1200)\n",
    "tick_spacing_x = 50\n",
    "x_ticker = ticker.MultipleLocator(tick_spacing_x)\n",
    "ax.xaxis.set_major_locator(x_ticker)\n",
    "tick_spacing_y = 50\n",
    "y_ticker = ticker.MultipleLocator(tick_spacing_y)\n",
    "ax.yaxis.set_major_locator(y_ticker)\n",
    "second_axis(ax, \"top\", tick_spacing_x)\n",
    "second_axis(ax, \"right\", tick_spacing_y)\n",
    "ax.tick_params(labelsize=20, width=2, length=6)\n",
    "ax.set_ylabel(\"y-axis\", fontsize=21)\n",
    "ax.set_xlabel(\"x-axis\", fontsize=21)\n",
    "x_ticks = x_ticker.tick_values(-499, -401)\n",
    "ax.set_xticks(x_ticks)\n",
    "x_labels = [item.get_text() for item in ax.get_xticklabels()]\n",
    "for i in range(len(x_ticks)):\n",
    "    x_labels[i] = str(0 + 50*i)\n",
    "ax.set_xticklabels(x_labels)\n",
    "y_ticks = y_ticker.tick_values(1101, 1199)\n",
    "ax.set_yticks(y_ticks)\n",
    "y_labels = [item.get_text() for item in ax.get_yticklabels()]\n",
    "for i in range(len(y_ticks)):\n",
    "    y_labels[i] = str(0 + 50*i)\n",
    "ax.set_yticklabels(y_labels)\n",
    "for vertex in vertices_collect_alg:\n",
    "    ax.plot(vertex[:, 0], vertex[:, 1], \"r\")\n",
    "    ax.plot([vertex[-1, 0], vertex[0, 0]], [vertex[-1, 1], vertex[0, 1]], \"r\")\n",
    "fig.savefig(r\"plt_figures\\merged_clusters_scatter_DBSCAN.svg\")"
   ]
  },
  {
   "cell_type": "markdown",
   "id": "e2f203f7-7cd7-4878-ad01-f92afd56d37d",
   "metadata": {},
   "source": [
    "## Subdivision"
   ]
  },
  {
   "cell_type": "code",
   "execution_count": 10,
   "id": "755af87a-3ea4-4413-8607-ab9e17c8f08f",
   "metadata": {},
   "outputs": [],
   "source": [
    "radius = 35\n",
    "sim_param = dict(parent_intensity=1e-5, cluster_mu=9, cluster_std=8, min_samples=3, \n",
    "                 seed=np.random.default_rng(100), lower_limit=-5000, upper_limit=5000, ratio=0.2, \n",
    "                 mode=\"random\", replace_min=2, replace_max=10, p_value=0.3)\n",
    "alg_param = dict(eps=25, min_samples=3)\n",
    "samples, labels, _, _, _ = si.sim_clusters(radius=radius, **sim_param)\n",
    "clust_labels = DBSCAN(**alg_param).fit_predict(samples)"
   ]
  },
  {
   "cell_type": "code",
   "execution_count": 11,
   "id": "c967876e-cae8-4856-b161-05c1a3a6dede",
   "metadata": {},
   "outputs": [],
   "source": [
    "indices = np.where((samples[:, 0] > 4500) & \n",
    "                   (samples[:, 1] > 3900) &\n",
    "                   (samples[:, 0] < 4600) &\n",
    "                   (samples[:, 1] < 4000))\n",
    "samples_filtered = samples[indices]\n",
    "labels_filtered = labels[indices]\n",
    "clust_labels_filtered = clust_labels[indices]"
   ]
  },
  {
   "cell_type": "markdown",
   "id": "39129d5b-4fe8-4c69-a72f-8532e0dd2a3a",
   "metadata": {},
   "source": [
    "### Visualize ground truth"
   ]
  },
  {
   "cell_type": "code",
   "execution_count": 12,
   "id": "b053b88f-1d61-48f6-9c3c-931049c697ef",
   "metadata": {},
   "outputs": [],
   "source": [
    "coordinates_sim, vertices_collect_sim = cluster_properties(samples_filtered, labels_filtered)"
   ]
  },
  {
   "cell_type": "code",
   "execution_count": 13,
   "id": "cf97b430-319a-48db-baec-53a2d898953f",
   "metadata": {},
   "outputs": [
    {
     "data": {
      "image/png": "[encoded data removed]",
      "text/plain": [
       "<Figure size 216x216 with 1 Axes>"
      ]
     },
     "metadata": {
      "needs_background": "light"
     },
     "output_type": "display_data"
    }
   ],
   "source": [
    "rcParams[\"axes.linewidth\"] = 2\n",
    "fig, ax = plt.subplots(figsize=(3, 3))\n",
    "ax.scatter(samples_filtered[:, 0], samples_filtered[:, 1], s=3, color=\"blue\")\n",
    "ax.scatter(coordinates_sim[:, 0], coordinates_sim[:, 1], color=\"orange\")\n",
    "ax.set_xlim(4500, 4600)\n",
    "ax.set_ylim(3900, 4000)\n",
    "tick_spacing_x = 50\n",
    "x_ticker = ticker.MultipleLocator(tick_spacing_x)\n",
    "ax.xaxis.set_major_locator(x_ticker)\n",
    "tick_spacing_y = 50\n",
    "y_ticker = ticker.MultipleLocator(tick_spacing_y)\n",
    "ax.yaxis.set_major_locator(y_ticker)\n",
    "second_axis(ax, \"top\", tick_spacing_x)\n",
    "second_axis(ax, \"right\", tick_spacing_y)\n",
    "ax.tick_params(labelsize=20, width=2, length=6)\n",
    "ax.set_ylabel(\"y-axis\", fontsize=21)\n",
    "ax.set_xlabel(\"x-axis\", fontsize=21)\n",
    "x_ticks = x_ticker.tick_values(4501, 4599)\n",
    "ax.set_xticks(x_ticks)\n",
    "x_labels = [item.get_text() for item in ax.get_xticklabels()]\n",
    "for i in range(len(x_ticks)):\n",
    "    x_labels[i] = str(0 + 50*i)\n",
    "ax.set_xticklabels(x_labels)\n",
    "y_ticks = y_ticker.tick_values(3901, 3999)\n",
    "ax.set_yticks(y_ticks)\n",
    "y_labels = [item.get_text() for item in ax.get_yticklabels()]\n",
    "for i in range(len(y_ticks)):\n",
    "    y_labels[i] = str(0 + 50*i)\n",
    "ax.set_yticklabels(y_labels)\n",
    "for vertex in vertices_collect_sim:\n",
    "    ax.plot(vertex[:, 0], vertex[:, 1], \"r\")\n",
    "    ax.plot([vertex[-1, 0], vertex[0, 0]], [vertex[-1, 1], vertex[0, 1]], \"r\")\n",
    "fig.savefig(r\"plt_figures\\subdivided_clusters_scatter_ground_truth.svg\")"
   ]
  },
  {
   "cell_type": "markdown",
   "id": "36b797bc-85b0-45b5-b8d1-673c9a8dc090",
   "metadata": {},
   "source": [
    "### Visualize DBSCAN result"
   ]
  },
  {
   "cell_type": "code",
   "execution_count": 14,
   "id": "521b51f0-13fb-4e29-a6fd-e31f8ff09578",
   "metadata": {},
   "outputs": [],
   "source": [
    "coordinates_alg, vertices_collect_alg = cluster_properties(samples_filtered, clust_labels_filtered)"
   ]
  },
  {
   "cell_type": "code",
   "execution_count": 15,
   "id": "c2a14818-cb50-46b1-92c5-753bd0ad8303",
   "metadata": {},
   "outputs": [
    {
     "data": {
      "image/png": "[encoded data removed]",
      "text/plain": [
       "<Figure size 216x216 with 1 Axes>"
      ]
     },
     "metadata": {
      "needs_background": "light"
     },
     "output_type": "display_data"
    }
   ],
   "source": [
    "rcParams[\"axes.linewidth\"] = 2\n",
    "fig, ax = plt.subplots(figsize=(3, 3))\n",
    "ax.scatter(samples[:, 0], samples[:, 1], s=3, color=\"blue\")\n",
    "ax.scatter(coordinates_alg[:, 0], coordinates_alg[:, 1], color=\"orange\")\n",
    "ax.set_xlim(4500, 4600)\n",
    "ax.set_ylim(3900, 4000)\n",
    "tick_spacing_x = 50\n",
    "x_ticker = ticker.MultipleLocator(tick_spacing_x)\n",
    "ax.xaxis.set_major_locator(x_ticker)\n",
    "tick_spacing_y = 50\n",
    "y_ticker = ticker.MultipleLocator(tick_spacing_y)\n",
    "ax.yaxis.set_major_locator(y_ticker)\n",
    "second_axis(ax, \"top\", tick_spacing_x)\n",
    "second_axis(ax, \"right\", tick_spacing_y)\n",
    "ax.tick_params(labelsize=20, width=2, length=6)\n",
    "ax.set_ylabel(\"y-axis\", fontsize=21)\n",
    "ax.set_xlabel(\"x-axis\", fontsize=21)\n",
    "x_ticks = x_ticker.tick_values(4501, 4599)\n",
    "ax.set_xticks(x_ticks)\n",
    "x_labels = [item.get_text() for item in ax.get_xticklabels()]\n",
    "for i in range(len(x_ticks)):\n",
    "    x_labels[i] = str(0 + 50*i)\n",
    "ax.set_xticklabels(x_labels)\n",
    "y_ticks = y_ticker.tick_values(3901, 3999)\n",
    "ax.set_yticks(y_ticks)\n",
    "y_labels = [item.get_text() for item in ax.get_yticklabels()]\n",
    "for i in range(len(y_ticks)):\n",
    "    y_labels[i] = str(0 + 50*i)\n",
    "ax.set_yticklabels(y_labels)\n",
    "for vertex in vertices_collect_alg:\n",
    "    ax.plot(vertex[:, 0], vertex[:, 1], \"r\")\n",
    "    ax.plot([vertex[-1, 0], vertex[0, 0]], [vertex[-1, 1], vertex[0, 1]], \"r\")\n",
    "fig.savefig(r\"plt_figures\\subdivided_clusters_scatter_DBSCAN.svg\")"
   ]
  }
 ],
 "metadata": {
  "kernelspec": {
   "display_name": "Python 3 (ipykernel)",
   "language": "python",
   "name": "python3"
  },
  "language_info": {
   "codemirror_mode": {
    "name": "ipython",
    "version": 3
   },
   "file_extension": ".py",
   "mimetype": "text/x-python",
   "name": "python",
   "nbconvert_exporter": "python",
   "pygments_lexer": "ipython3",
   "version": "3.8.10"
  }
 },
 "nbformat": 4,
 "nbformat_minor": 5
}
